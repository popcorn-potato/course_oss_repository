{
 "cells": [
  {
   "cell_type": "code",
   "execution_count": 1,
   "id": "3be0dea7-235d-4f02-93f1-7a0858ff2e68",
   "metadata": {},
   "outputs": [
    {
     "data": {
      "text/plain": [
       "'School of Software'"
      ]
     },
     "execution_count": 1,
     "metadata": {},
     "output_type": "execute_result"
    }
   ],
   "source": [
    "'School' ' of' ' Software'"
   ]
  },
  {
   "cell_type": "code",
   "execution_count": 2,
   "id": "d18eb6e4-919d-460a-8566-3e2218d97e30",
   "metadata": {},
   "outputs": [
    {
     "data": {
      "text/plain": [
       "'banana'"
      ]
     },
     "execution_count": 2,
     "metadata": {},
     "output_type": "execute_result"
    }
   ],
   "source": [
    "'b' + 2 * 'an' + 'a'"
   ]
  },
  {
   "cell_type": "code",
   "execution_count": 3,
   "id": "a1878942-35f6-44fe-9483-331e8c2c3421",
   "metadata": {},
   "outputs": [],
   "source": [
    "programming = 'Programming'"
   ]
  },
  {
   "cell_type": "code",
   "execution_count": 4,
   "id": "8d873bb3-b64c-46a6-9307-822794cf03f6",
   "metadata": {},
   "outputs": [
    {
     "data": {
      "text/plain": [
       "'P'"
      ]
     },
     "execution_count": 4,
     "metadata": {},
     "output_type": "execute_result"
    }
   ],
   "source": [
    "programming[0]"
   ]
  },
  {
   "cell_type": "code",
   "execution_count": 5,
   "id": "04f033cf-43b1-4f54-8637-42e94625b262",
   "metadata": {},
   "outputs": [
    {
     "data": {
      "text/plain": [
       "'g'"
      ]
     },
     "execution_count": 5,
     "metadata": {},
     "output_type": "execute_result"
    }
   ],
   "source": [
    "programming[-1]"
   ]
  },
  {
   "cell_type": "code",
   "execution_count": 6,
   "id": "2dd16249-424c-48d9-84a2-3e3b5ab98317",
   "metadata": {},
   "outputs": [
    {
     "data": {
      "text/plain": [
       "'ramming'"
      ]
     },
     "execution_count": 6,
     "metadata": {},
     "output_type": "execute_result"
    }
   ],
   "source": [
    "programming[4:]"
   ]
  },
  {
   "cell_type": "code",
   "execution_count": 7,
   "id": "1857780f-91a5-447a-a617-83b67578d791",
   "metadata": {},
   "outputs": [
    {
     "data": {
      "text/plain": [
       "'Programming'"
      ]
     },
     "execution_count": 7,
     "metadata": {},
     "output_type": "execute_result"
    }
   ],
   "source": [
    "programming[:2] + programming[2:]"
   ]
  },
  {
   "cell_type": "code",
   "execution_count": 8,
   "id": "b8f19a75-4186-484f-88d9-fee891f9e2fc",
   "metadata": {},
   "outputs": [],
   "source": [
    "square = [1, 4, 9, 16, 25]"
   ]
  },
  {
   "cell_type": "code",
   "execution_count": 9,
   "id": "26b0aaa1-c650-470f-9dcb-0be9655cbb0c",
   "metadata": {},
   "outputs": [
    {
     "data": {
      "text/plain": [
       "25"
      ]
     },
     "execution_count": 9,
     "metadata": {},
     "output_type": "execute_result"
    }
   ],
   "source": [
    "square[-1]"
   ]
  },
  {
   "cell_type": "code",
   "execution_count": 10,
   "id": "1c9dc56c-835b-4d33-99b6-00a475ec71d1",
   "metadata": {},
   "outputs": [
    {
     "data": {
      "text/plain": [
       "[9, 16, 25]"
      ]
     },
     "execution_count": 10,
     "metadata": {},
     "output_type": "execute_result"
    }
   ],
   "source": [
    "square[-3:]"
   ]
  },
  {
   "cell_type": "code",
   "execution_count": 11,
   "id": "472c7fd0-9a74-470d-8d78-b4ca2d4163ad",
   "metadata": {},
   "outputs": [
    {
     "data": {
      "text/plain": [
       "[1, 4, 9, 16, 25, 1, 4, 9, 16, 25]"
      ]
     },
     "execution_count": 11,
     "metadata": {},
     "output_type": "execute_result"
    }
   ],
   "source": [
    "square + square"
   ]
  },
  {
   "cell_type": "code",
   "execution_count": 12,
   "id": "89b9f95b-07cb-4d4a-b023-4bf14f6d1f01",
   "metadata": {},
   "outputs": [
    {
     "data": {
      "text/plain": [
       "[1, 4, 9, 16, 25, 1, 4, 9, 16, 25, 1, 4, 9, 16, 25]"
      ]
     },
     "execution_count": 12,
     "metadata": {},
     "output_type": "execute_result"
    }
   ],
   "source": [
    "square * 3"
   ]
  },
  {
   "cell_type": "code",
   "execution_count": 13,
   "id": "4174cacc-b98f-49c4-ba2b-275153d48b2a",
   "metadata": {},
   "outputs": [],
   "source": [
    "# 列表元素可变\n",
    "square[2] = 0"
   ]
  },
  {
   "cell_type": "code",
   "execution_count": 14,
   "id": "2fcd7d7e-7afb-4582-90a5-e19e0dd85cda",
   "metadata": {},
   "outputs": [
    {
     "data": {
      "text/plain": [
       "[1, 4, 0, 16, 25]"
      ]
     },
     "execution_count": 14,
     "metadata": {},
     "output_type": "execute_result"
    }
   ],
   "source": [
    "square"
   ]
  },
  {
   "cell_type": "code",
   "execution_count": 15,
   "id": "cb9a8ffe-e246-4471-aa69-10f90f176856",
   "metadata": {},
   "outputs": [],
   "source": [
    "square.append(-1)"
   ]
  },
  {
   "cell_type": "code",
   "execution_count": 16,
   "id": "8f8e45cc-dce1-43cc-9467-7c87fbb8b770",
   "metadata": {},
   "outputs": [
    {
     "data": {
      "text/plain": [
       "[1, 4, 0, 16, 25, -1]"
      ]
     },
     "execution_count": 16,
     "metadata": {},
     "output_type": "execute_result"
    }
   ],
   "source": [
    "square"
   ]
  },
  {
   "cell_type": "code",
   "execution_count": 17,
   "id": "cd3cfa4e-eddb-419b-849b-a44ce74279b6",
   "metadata": {},
   "outputs": [
    {
     "data": {
      "text/plain": [
       "6"
      ]
     },
     "execution_count": 17,
     "metadata": {},
     "output_type": "execute_result"
    }
   ],
   "source": [
    "# 返回列表长度\n",
    "len(square)"
   ]
  },
  {
   "cell_type": "code",
   "execution_count": 19,
   "id": "67935912-23bc-4cc9-8d7d-4dec8c411605",
   "metadata": {},
   "outputs": [],
   "source": [
    "a = [1, 2, 3]\n",
    "b = [4, 5, 6]\n",
    "c = [a, b]"
   ]
  },
  {
   "cell_type": "code",
   "execution_count": 20,
   "id": "86a7bd05-554a-42a6-8d91-0bb92cdd1e9d",
   "metadata": {},
   "outputs": [
    {
     "data": {
      "text/plain": [
       "[[1, 2, 3], [4, 5, 6]]"
      ]
     },
     "execution_count": 20,
     "metadata": {},
     "output_type": "execute_result"
    }
   ],
   "source": [
    "c"
   ]
  },
  {
   "cell_type": "code",
   "execution_count": 21,
   "id": "eb062c13-f581-4bf9-bb29-8b5327c6cdab",
   "metadata": {},
   "outputs": [
    {
     "data": {
      "text/plain": [
       "2"
      ]
     },
     "execution_count": 21,
     "metadata": {},
     "output_type": "execute_result"
    }
   ],
   "source": [
    "c[0][1]"
   ]
  },
  {
   "cell_type": "code",
   "execution_count": 22,
   "id": "62fb85a1-d77c-49da-b7c3-8a1361d34ffc",
   "metadata": {},
   "outputs": [
    {
     "name": "stdout",
     "output_type": "stream",
     "text": [
      "More\n"
     ]
    }
   ],
   "source": [
    "x = 20\n",
    "if x < 10:\n",
    "    x = 0\n",
    "    print(\"negative value of x\")\n",
    "elif x == 0:\n",
    "    print(\"zero\")\n",
    "elif x == 1:\n",
    "    print(\"single\")\n",
    "else:\n",
    "    print(\"More\")"
   ]
  },
  {
   "cell_type": "code",
   "execution_count": 23,
   "id": "8551a374-9fa3-43d8-a231-4fbefc66d187",
   "metadata": {},
   "outputs": [],
   "source": [
    "words = ['Java', 'C++', 'Ruby']"
   ]
  },
  {
   "cell_type": "code",
   "execution_count": 24,
   "id": "dad405ff-f9a0-46da-a7b0-7573a8ff5fc6",
   "metadata": {},
   "outputs": [
    {
     "name": "stdout",
     "output_type": "stream",
     "text": [
      "Java 4\n",
      "C++ 3\n",
      "Ruby 4\n"
     ]
    }
   ],
   "source": [
    "for w in words:\n",
    "    print(w, len(w))"
   ]
  },
  {
   "cell_type": "code",
   "execution_count": 25,
   "id": "1ecbe9ce-8ba0-4e9b-acb1-0113a257b207",
   "metadata": {},
   "outputs": [
    {
     "name": "stdout",
     "output_type": "stream",
     "text": [
      "0\n",
      "1\n",
      "2\n",
      "3\n",
      "4\n"
     ]
    }
   ],
   "source": [
    "for i in range(5):\n",
    "    print(i)"
   ]
  },
  {
   "cell_type": "code",
   "execution_count": 26,
   "id": "1e3c9fca-fb3d-472b-a78b-976386373aec",
   "metadata": {},
   "outputs": [],
   "source": [
    "def foo():\n",
    "    print(\"hello world\")"
   ]
  },
  {
   "cell_type": "code",
   "execution_count": 28,
   "id": "b80ec9fa-90fe-4ba0-a742-f2540cfaef4a",
   "metadata": {},
   "outputs": [],
   "source": [
    "def add(x, y):\n",
    "    return x + y"
   ]
  },
  {
   "cell_type": "code",
   "execution_count": 29,
   "id": "865c6583-cf60-4eb6-8431-327166db3857",
   "metadata": {},
   "outputs": [
    {
     "name": "stdout",
     "output_type": "stream",
     "text": [
      "7\n"
     ]
    }
   ],
   "source": [
    "print(add(3, 4))"
   ]
  },
  {
   "cell_type": "code",
   "execution_count": 30,
   "id": "1654d89b-65c5-41f4-a5a0-c6f2ca03c935",
   "metadata": {},
   "outputs": [
    {
     "name": "stdout",
     "output_type": "stream",
     "text": [
      "hello world\n"
     ]
    }
   ],
   "source": [
    "foo()"
   ]
  },
  {
   "cell_type": "code",
   "execution_count": 2,
   "id": "f1b51f3a-63fa-4c54-8680-4a44685c21d0",
   "metadata": {},
   "outputs": [],
   "source": [
    "import turtle"
   ]
  },
  {
   "cell_type": "code",
   "execution_count": 32,
   "id": "31f34d6f-1f6e-4634-bcfb-7be8b181c6aa",
   "metadata": {},
   "outputs": [],
   "source": [
    "def my_square(length):\n",
    "    turtle.forward(length)\n",
    "    turtle.left(90)\n",
    "    turtle.forward(length)\n",
    "    turtle.left(90)\n",
    "    turtle.forward(length)\n",
    "    turtle.left(90)\n",
    "    turtle.forward(length)\n",
    "    turtle.left(90)\n",
    "    "
   ]
  },
  {
   "cell_type": "code",
   "execution_count": 34,
   "id": "fe5825f2-67c6-498b-b539-eb9fca876c88",
   "metadata": {},
   "outputs": [],
   "source": [
    "my_square(10)"
   ]
  },
  {
   "cell_type": "code",
   "execution_count": 4,
   "id": "59355a5d-0abf-4157-a2b2-2b1c16f23c78",
   "metadata": {},
   "outputs": [],
   "source": [
    "def tree(len, n):\n",
    "    if n <= 0:\n",
    "        return\n",
    "    else:\n",
    "        turtle.forward(len)\n",
    "        turtle.left(45)\n",
    "        tree(len * 0.5, n - 1)\n",
    "        turtle.right(90)\n",
    "        tree(len * 0.5, n - 1)\n",
    "        turtle.left(45)\n",
    "        turtle.backward(len)\n",
    "turtle.speed(0)\n",
    "tree(200, 9)"
   ]
  },
  {
   "cell_type": "code",
   "execution_count": 5,
   "id": "04cab45e-9825-4522-940d-afca4d8293d9",
   "metadata": {},
   "outputs": [],
   "source": [
    "def snowflake(length, threshold):\n",
    "    if length < threshold:\n",
    "        turtle.forward(length)\n",
    "    else:\n",
    "        length = length / 3\n",
    "        #segment 1\n",
    "        snowflake(length, threshold)\n",
    "        turtle.left(60)\n",
    "        #segment 2\n",
    "        snowflake(length, threshold)\n",
    "        turtle.right(120)\n",
    "        #segment 3\n",
    "        snowflake(length, threshold)\n",
    "        turtle.left(60)\n",
    "        #segment 4\n",
    "        snowflake(length, threshold)\n",
    "for i in range(3):\n",
    "    snowflake(300, 10)\n",
    "    turtle.right(120)"
   ]
  },
  {
   "cell_type": "code",
   "execution_count": 6,
   "id": "93c10b59-976a-4c4e-8d7a-80f0389b16f3",
   "metadata": {},
   "outputs": [],
   "source": [
    "def triangle(length, threshold):\n",
    "    if length < threshold:\n",
    "        return\n",
    "    else:\n",
    "        for i in range(3):\n",
    "            turtle.forward(length)\n",
    "            triangle(length/2, threshold)\n",
    "            turtle.backward(length)\n",
    "            turtle.left(120)\n",
    "triangle(100, 1)"
   ]
  },
  {
   "cell_type": "code",
   "execution_count": null,
   "id": "3d1c0f66-9877-4a2b-83c0-2c7a6d50845a",
   "metadata": {},
   "outputs": [],
   "source": []
  }
 ],
 "metadata": {
  "kernelspec": {
   "display_name": "Python 3 (ipykernel)",
   "language": "python",
   "name": "python3"
  },
  "language_info": {
   "codemirror_mode": {
    "name": "ipython",
    "version": 3
   },
   "file_extension": ".py",
   "mimetype": "text/x-python",
   "name": "python",
   "nbconvert_exporter": "python",
   "pygments_lexer": "ipython3",
   "version": "3.12.6"
  }
 },
 "nbformat": 4,
 "nbformat_minor": 5
}
