{
 "cells": [
  {
   "cell_type": "code",
   "execution_count": 1,
   "id": "434dcc53-bcbc-4d41-8f60-75a8d5e395da",
   "metadata": {},
   "outputs": [],
   "source": [
    "import sqlite3"
   ]
  },
  {
   "cell_type": "code",
   "execution_count": 2,
   "id": "16a66f91-4226-4d83-8669-4fb29e0873b5",
   "metadata": {},
   "outputs": [],
   "source": [
    "con = sqlite3.connect(\"student1.db\")"
   ]
  },
  {
   "cell_type": "code",
   "execution_count": 9,
   "id": "cdbe6475-3ec2-40f4-9d69-57eb7516f195",
   "metadata": {},
   "outputs": [
    {
     "data": {
      "text/plain": [
       "<sqlite3.Cursor at 0x213498a3640>"
      ]
     },
     "execution_count": 9,
     "metadata": {},
     "output_type": "execute_result"
    }
   ],
   "source": [
    "con.execute(\"create table students2 (ID text, name text, age int)\")"
   ]
  },
  {
   "cell_type": "code",
   "execution_count": 10,
   "id": "d4d192fa-fd7e-43f2-ae85-0f90fac160b8",
   "metadata": {},
   "outputs": [
    {
     "data": {
      "text/plain": [
       "<sqlite3.Cursor at 0x213498a3340>"
      ]
     },
     "execution_count": 10,
     "metadata": {},
     "output_type": "execute_result"
    }
   ],
   "source": [
    "con.execute(\"insert into students2 values('123', 'zhangsan', 15)\")\n",
    "con.execute(\"insert into students2 values('124', 'lisi', 15)\")"
   ]
  },
  {
   "cell_type": "code",
   "execution_count": 6,
   "id": "a1257b40-dea6-452a-b726-9450e7f5a042",
   "metadata": {},
   "outputs": [
    {
     "data": {
      "text/plain": [
       "<sqlite3.Cursor at 0x21349a5de40>"
      ]
     },
     "execution_count": 6,
     "metadata": {},
     "output_type": "execute_result"
    }
   ],
   "source": [
    "con.execute(\"drop table students1\")"
   ]
  },
  {
   "cell_type": "code",
   "execution_count": 8,
   "id": "3ec77e01-7c9c-48df-9d77-1df1309597ca",
   "metadata": {},
   "outputs": [
    {
     "data": {
      "text/plain": [
       "<sqlite3.Cursor at 0x21349a5dcc0>"
      ]
     },
     "execution_count": 8,
     "metadata": {},
     "output_type": "execute_result"
    }
   ],
   "source": [
    "con.execute(\"drop table students2\")"
   ]
  },
  {
   "cell_type": "code",
   "execution_count": null,
   "id": "612ec885-7f7a-4739-b9e8-24d2bbea0992",
   "metadata": {},
   "outputs": [],
   "source": []
  }
 ],
 "metadata": {
  "kernelspec": {
   "display_name": "Python 3 (ipykernel)",
   "language": "python",
   "name": "python3"
  },
  "language_info": {
   "codemirror_mode": {
    "name": "ipython",
    "version": 3
   },
   "file_extension": ".py",
   "mimetype": "text/x-python",
   "name": "python",
   "nbconvert_exporter": "python",
   "pygments_lexer": "ipython3",
   "version": "3.12.6"
  }
 },
 "nbformat": 4,
 "nbformat_minor": 5
}
