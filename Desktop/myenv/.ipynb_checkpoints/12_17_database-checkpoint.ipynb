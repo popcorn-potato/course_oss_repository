{
 "cells": [
  {
   "cell_type": "code",
   "execution_count": 1,
   "id": "1458c3e8-a5b2-464e-8cd6-b75fdfb348e3",
   "metadata": {},
   "outputs": [],
   "source": [
    "import sqlite3"
   ]
  },
  {
   "cell_type": "code",
   "execution_count": 4,
   "id": "899720d5-2a16-483e-8e89-2b15ae08e167",
   "metadata": {},
   "outputs": [
    {
     "data": {
      "text/plain": [
       "<sqlite3.Cursor at 0x20c369478c0>"
      ]
     },
     "execution_count": 4,
     "metadata": {},
     "output_type": "execute_result"
    }
   ],
   "source": [
    "con = sqlite3.connect(\"student.db\")\n",
    "con.execute(\"create table newstudents (id int, name text, age int)\")\n",
    "con.execute(\"insert into newstudents values (12, 'zhangsan', 19)\")\n",
    "con.execute(\"insert into newstudents values (13, 'lisi', 20)\")\n"
   ]
  },
  {
   "cell_type": "code",
   "execution_count": 9,
   "id": "3f52abbd-e6bb-469c-be2f-c31b958cb949",
   "metadata": {},
   "outputs": [],
   "source": [
    "def check(con, name):\n",
    "    sql = f\"select * from newstudents where name = '{name}'\"\n",
    "    print(sql)\n",
    "    cursor = con.execute(sql)\n",
    "    for entry in cursor:\n",
    "        print(entry)\n",
    "    "
   ]
  },
  {
   "cell_type": "code",
   "execution_count": 7,
   "id": "c4c49d97-df33-4238-8f8c-64967539170d",
   "metadata": {},
   "outputs": [
    {
     "name": "stdout",
     "output_type": "stream",
     "text": [
      "(12, 'zhangsan', 19)\n"
     ]
    }
   ],
   "source": [
    "check(con, \"zhangsan\")"
   ]
  },
  {
   "cell_type": "code",
   "execution_count": 11,
   "id": "b7a1d1f9-672c-4807-b696-c75571cffff0",
   "metadata": {},
   "outputs": [
    {
     "name": "stdout",
     "output_type": "stream",
     "text": [
      "select * from newstudents where name = 'zhouwu'--'\n"
     ]
    }
   ],
   "source": [
    "check(con, \"zhouwu'--\")#单引号被注释掉了"
   ]
  },
  {
   "cell_type": "code",
   "execution_count": 13,
   "id": "cbe9abd1-6dc3-4269-aaa2-e1d93f67e3ce",
   "metadata": {},
   "outputs": [
    {
     "name": "stdout",
     "output_type": "stream",
     "text": [
      "select * from newstudents where name = 'zhouwu' or True--'\n",
      "(12, 'zhangsan', 19)\n",
      "(13, 'lisi', 20)\n"
     ]
    }
   ],
   "source": [
    "#更改上面语句使其总是为真\n",
    "check(con, \"zhouwu' or True--\")\n",
    "#sql注入攻击"
   ]
  },
  {
   "cell_type": "code",
   "execution_count": 15,
   "id": "142ab774-6aa4-4a08-9860-f9e355abb794",
   "metadata": {},
   "outputs": [],
   "source": [
    "def check2(con, name):\n",
    "    sql = \"select * from newstudents where name = ?\"\n",
    "    cursor = con.execute(sql, (name,))\n",
    "    for entry in cursor:\n",
    "        print(entry)"
   ]
  },
  {
   "cell_type": "code",
   "execution_count": 16,
   "id": "73288f01-b518-4b8e-9a5b-de4bc05173c7",
   "metadata": {},
   "outputs": [
    {
     "name": "stdout",
     "output_type": "stream",
     "text": [
      "(12, 'zhangsan', 19)\n"
     ]
    }
   ],
   "source": [
    "check2(con, \"zhangsan\")"
   ]
  },
  {
   "cell_type": "code",
   "execution_count": 17,
   "id": "0bfee0bd-7618-4b00-897d-ad16280ba962",
   "metadata": {},
   "outputs": [],
   "source": [
    "check2(con, \"zhouwu' or TRUE--\")"
   ]
  },
  {
   "cell_type": "code",
   "execution_count": 18,
   "id": "d4d314d6-8950-4be0-bbb7-38b60c031837",
   "metadata": {},
   "outputs": [],
   "source": [
    "data = [\n",
    "    (125, \"zhouwu\", 20),\n",
    "    (126, \"wangliu\", 21),\n",
    "    (127, \"qiqi\", 20),\n",
    "]"
   ]
  },
  {
   "cell_type": "code",
   "execution_count": 20,
   "id": "eee063e5-146b-4461-9922-8552de2b454e",
   "metadata": {},
   "outputs": [
    {
     "data": {
      "text/plain": [
       "<sqlite3.Cursor at 0x20c36e34fc0>"
      ]
     },
     "execution_count": 20,
     "metadata": {},
     "output_type": "execute_result"
    }
   ],
   "source": [
    "con.executemany(\"insert into newstudents values (?, ?, ?)\", data)"
   ]
  },
  {
   "cell_type": "code",
   "execution_count": null,
   "id": "71b39c7d-ad0f-4b8e-b5a2-05709f932046",
   "metadata": {},
   "outputs": [],
   "source": [
    "con.executescript(\"\"\"\n",
    "insert into ****;\n",
    "insert into ****;\"\"\")"
   ]
  },
  {
   "cell_type": "code",
   "execution_count": 24,
   "id": "7be7c6b7-7e9e-4763-80a6-b1fcf2cc3718",
   "metadata": {},
   "outputs": [
    {
     "ename": "TypeError",
     "evalue": "write() argument must be str, not bytes",
     "output_type": "error",
     "traceback": [
      "\u001b[1;31m---------------------------------------------------------------------------\u001b[0m",
      "\u001b[1;31mTypeError\u001b[0m                                 Traceback (most recent call last)",
      "Cell \u001b[1;32mIn[24], line 4\u001b[0m\n\u001b[0;32m      2\u001b[0m student \u001b[38;5;241m=\u001b[39m {\u001b[38;5;124m\"\u001b[39m\u001b[38;5;124mname\u001b[39m\u001b[38;5;124m\"\u001b[39m, \u001b[38;5;124m\"\u001b[39m\u001b[38;5;124mzhangsan\u001b[39m\u001b[38;5;124m\"\u001b[39m, \u001b[38;5;124m\"\u001b[39m\u001b[38;5;124mage\u001b[39m\u001b[38;5;124m\"\u001b[39m}\n\u001b[0;32m      3\u001b[0m \u001b[38;5;28;01mwith\u001b[39;00m \u001b[38;5;28mopen\u001b[39m(\u001b[38;5;124m\"\u001b[39m\u001b[38;5;124mstudent.p\u001b[39m\u001b[38;5;124m\"\u001b[39m, \u001b[38;5;124m\"\u001b[39m\u001b[38;5;124mw\u001b[39m\u001b[38;5;124m\"\u001b[39m) \u001b[38;5;28;01mas\u001b[39;00m f:\n\u001b[1;32m----> 4\u001b[0m     \u001b[43mpickle\u001b[49m\u001b[38;5;241;43m.\u001b[39;49m\u001b[43mdump\u001b[49m\u001b[43m(\u001b[49m\u001b[43mstudent\u001b[49m\u001b[43m,\u001b[49m\u001b[43m \u001b[49m\u001b[43mf\u001b[49m\u001b[43m)\u001b[49m\n",
      "\u001b[1;31mTypeError\u001b[0m: write() argument must be str, not bytes"
     ]
    }
   ],
   "source": [
    "import pickle\n",
    "student = {\"name\", \"zhangsan\", \"age\"}\n",
    "with open(\"student.p\", \"w\") as f:\n",
    "    pickle.dump(student, f)"
   ]
  },
  {
   "cell_type": "code",
   "execution_count": null,
   "id": "2ad9a925-5bf7-491f-b2a4-8500c27c9a6a",
   "metadata": {},
   "outputs": [],
   "source": [
    "with open(\"student.p\", \"rb\") as f:\n",
    "    loaded = pickle.load(f)"
   ]
  },
  {
   "cell_type": "code",
   "execution_count": null,
   "id": "92f2c77c-c293-4f55-9f0f-57b284f24e34",
   "metadata": {},
   "outputs": [],
   "source": [
    "dumped = pickle.dumps(student)"
   ]
  },
  {
   "cell_type": "code",
   "execution_count": null,
   "id": "e2162a2e-9e67-43dd-bf01-c8ca261fd56e",
   "metadata": {},
   "outputs": [],
   "source": [
    "type(dumped)"
   ]
  },
  {
   "cell_type": "code",
   "execution_count": null,
   "id": "5b12b6b6-a940-4e28-a9ab-a9059d4f3bf5",
   "metadata": {},
   "outputs": [],
   "source": [
    "load_from_bytes = pickle.loads(dumped)"
   ]
  },
  {
   "cell_type": "code",
   "execution_count": null,
   "id": "921e8d24-9a04-4b72-aaef-a643ae1335bf",
   "metadata": {},
   "outputs": [],
   "source": [
    "load_from_bytes"
   ]
  }
 ],
 "metadata": {
  "kernelspec": {
   "display_name": "Python 3 (ipykernel)",
   "language": "python",
   "name": "python3"
  },
  "language_info": {
   "codemirror_mode": {
    "name": "ipython",
    "version": 3
   },
   "file_extension": ".py",
   "mimetype": "text/x-python",
   "name": "python",
   "nbconvert_exporter": "python",
   "pygments_lexer": "ipython3",
   "version": "3.12.6"
  }
 },
 "nbformat": 4,
 "nbformat_minor": 5
}
