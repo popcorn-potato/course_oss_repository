{
 "cells": [
  {
   "cell_type": "code",
   "execution_count": 1,
   "id": "42f23a4f-fe4b-4736-a683-86eb0aee58a2",
   "metadata": {},
   "outputs": [],
   "source": [
    "class TNode:\n",
    "    def __init__(self, value, left = None, right = None):\n",
    "        self.value = value\n",
    "        self.left = left\n",
    "        self.right = right\n",
    "        "
   ]
  },
  {
   "cell_type": "code",
   "execution_count": 2,
   "id": "cf037318-3260-473e-a4c9-75f9ce857872",
   "metadata": {},
   "outputs": [],
   "source": [
    "node = TNode(3, None, None)"
   ]
  },
  {
   "cell_type": "code",
   "execution_count": 3,
   "id": "07085578-a54b-452a-8f8e-ba4d27d0cd59",
   "metadata": {},
   "outputs": [],
   "source": [
    "tree = TNode(5, TNode(3), TNode(4, TNode(7), TNode(8)))"
   ]
  },
  {
   "cell_type": "code",
   "execution_count": 6,
   "id": "155dd239-bfe3-476e-b010-7cd615731e67",
   "metadata": {},
   "outputs": [],
   "source": [
    "# 二叉搜索树\n",
    "def insert_bst(node, value):\n",
    "    if not node:\n",
    "        return TNode(value)\n",
    "    elif node.value < value:\n",
    "        return TNode(node.value, node.left, insert_bst(node.right, value))\n",
    "    elif node.value == value:\n",
    "        return node\n",
    "    else:\n",
    "        return TNode(node.value, insert_bst(node.left, value), node.right)\n",
    "    "
   ]
  },
  {
   "cell_type": "code",
   "execution_count": 7,
   "id": "d71fdd94-036f-4b2a-b14d-98e848b6aeda",
   "metadata": {},
   "outputs": [],
   "source": [
    "a = insert_bst(None, 5)\n",
    "b = insert_bst(a, 4)\n",
    "c = insert_bst(a, 6)\n",
    "d = insert_bst(a, 7)"
   ]
  },
  {
   "cell_type": "code",
   "execution_count": null,
   "id": "81b64bff-2560-4464-8538-ded4d7bf0740",
   "metadata": {},
   "outputs": [],
   "source": [
    "# 中序遍历\n",
    "def traverse(node):\n",
    "    if not node:\n",
    "        return \n",
    "    elif:\n",
    "        pass "
   ]
  }
 ],
 "metadata": {
  "kernelspec": {
   "display_name": "Python 3 (ipykernel)",
   "language": "python",
   "name": "python3"
  },
  "language_info": {
   "codemirror_mode": {
    "name": "ipython",
    "version": 3
   },
   "file_extension": ".py",
   "mimetype": "text/x-python",
   "name": "python",
   "nbconvert_exporter": "python",
   "pygments_lexer": "ipython3",
   "version": "3.12.6"
  }
 },
 "nbformat": 4,
 "nbformat_minor": 5
}
