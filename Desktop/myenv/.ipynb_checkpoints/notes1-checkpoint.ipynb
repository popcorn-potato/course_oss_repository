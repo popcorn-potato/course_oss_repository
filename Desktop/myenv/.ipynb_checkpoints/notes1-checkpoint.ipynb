{
 "cells": [
  {
   "cell_type": "code",
   "execution_count": 1,
   "id": "51be4103-e64d-4790-b7c9-ff5eabc19477",
   "metadata": {},
   "outputs": [],
   "source": [
    "from functools import reduce"
   ]
  },
  {
   "cell_type": "code",
   "execution_count": 2,
   "id": "394feebd-5594-4fdd-8e37-d1e86c544c7a",
   "metadata": {},
   "outputs": [],
   "source": [
    "mapped = map(lambda x: x**2, range(10))"
   ]
  },
  {
   "cell_type": "code",
   "execution_count": 3,
   "id": "18fb141e-a2be-431a-a311-8897481caed9",
   "metadata": {},
   "outputs": [
    {
     "data": {
      "text/plain": [
       "[0, 1, 4, 9, 16, 25, 36, 49, 64, 81]"
      ]
     },
     "execution_count": 3,
     "metadata": {},
     "output_type": "execute_result"
    }
   ],
   "source": [
    "list(mapped)"
   ]
  },
  {
   "cell_type": "code",
   "execution_count": 6,
   "id": "c0ef6d4b-e4b5-4cac-bc55-ace875ef5cb6",
   "metadata": {},
   "outputs": [],
   "source": [
    "def less_than_20(x):\n",
    "    return x < 20\n",
    "mapped = map(lambda x: x**2, range(10)) \n",
    "filtered = list(filter(less_than_20, mapped))#用list进行一下转换"
   ]
  },
  {
   "cell_type": "code",
   "execution_count": 7,
   "id": "f4150c04-37a2-4923-9c92-20e85c0c3ddb",
   "metadata": {},
   "outputs": [
    {
     "data": {
      "text/plain": [
       "[0, 1, 4, 9, 16]"
      ]
     },
     "execution_count": 7,
     "metadata": {},
     "output_type": "execute_result"
    }
   ],
   "source": [
    "filtered"
   ]
  },
  {
   "cell_type": "code",
   "execution_count": null,
   "id": "ee23a48e-707a-43c5-b561-517719579051",
   "metadata": {},
   "outputs": [],
   "source": []
  }
 ],
 "metadata": {
  "kernelspec": {
   "display_name": "Python 3 (ipykernel)",
   "language": "python",
   "name": "python3"
  },
  "language_info": {
   "codemirror_mode": {
    "name": "ipython",
    "version": 3
   },
   "file_extension": ".py",
   "mimetype": "text/x-python",
   "name": "python",
   "nbconvert_exporter": "python",
   "pygments_lexer": "ipython3",
   "version": "3.12.6"
  }
 },
 "nbformat": 4,
 "nbformat_minor": 5
}
