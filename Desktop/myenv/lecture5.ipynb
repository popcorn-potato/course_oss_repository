{
 "cells": [
  {
   "cell_type": "code",
   "execution_count": 2,
   "id": "52d05a99-dcfb-467a-870f-7d624586d775",
   "metadata": {},
   "outputs": [
    {
     "data": {
      "text/plain": [
       "(3.0, -4.5)"
      ]
     },
     "execution_count": 2,
     "metadata": {},
     "output_type": "execute_result"
    }
   ],
   "source": [
    "# 构造函数\n",
    "class Complex:\n",
    "    def __init__(self, realpart, imagepart):\n",
    "        self.r = realpart\n",
    "        self.i = imagepart\n",
    "x = Complex(3.0, -4.5)\n",
    "x.r, x.i"
   ]
  },
  {
   "cell_type": "code",
   "execution_count": 3,
   "id": "0a28aa3f-93c7-4177-8e0e-f9d4d95c3a6b",
   "metadata": {},
   "outputs": [],
   "source": [
    "class Pet:\n",
    "    learnt_tricks = []\n",
    "    def __init__(self, name):\n",
    "        self.name = name\n",
    "    def learn_trick(self, trick):\n",
    "        self.learnt_tricks.append(trick)"
   ]
  },
  {
   "cell_type": "code",
   "execution_count": 4,
   "id": "205d0c87-208f-4c2b-bd8c-dd6ea00e7b45",
   "metadata": {},
   "outputs": [
    {
     "data": {
      "text/plain": [
       "['roll', 'play']"
      ]
     },
     "execution_count": 4,
     "metadata": {},
     "output_type": "execute_result"
    }
   ],
   "source": [
    "d = Pet('mao')\n",
    "e = Pet('go')\n",
    "d.learn_trick('roll')\n",
    "e.learn_trick('play')\n",
    "d.learnt_tricks"
   ]
  },
  {
   "cell_type": "code",
   "execution_count": 5,
   "id": "0e7cc9b0-a702-4d37-86ac-e353382b683f",
   "metadata": {},
   "outputs": [
    {
     "name": "stdout",
     "output_type": "stream",
     "text": [
      "in A::foo\n"
     ]
    }
   ],
   "source": [
    "class A:\n",
    "    def foo(self):\n",
    "        print(\"in A::foo\")\n",
    "\n",
    "class B(A):\n",
    "    pass\n",
    "\n",
    "b = B()\n",
    "b.foo()"
   ]
  },
  {
   "cell_type": "code",
   "execution_count": 10,
   "id": "d1203c9e-67e5-40ea-aafe-24c3e5d63993",
   "metadata": {},
   "outputs": [
    {
     "name": "stdout",
     "output_type": "stream",
     "text": [
      "in B::foo\n"
     ]
    },
    {
     "data": {
      "text/plain": [
       "True"
      ]
     },
     "execution_count": 10,
     "metadata": {},
     "output_type": "execute_result"
    }
   ],
   "source": [
    "class A:\n",
    "    def foo(self):\n",
    "        print(\"in A::foo\")\n",
    "\n",
    "class B(A):\n",
    "    def foo(self):\n",
    "        print(\"in B::foo\")\n",
    "\n",
    "b = B()\n",
    "b.foo()\n",
    "isinstance(b, B)\n",
    "isinstance(b, A)"
   ]
  },
  {
   "cell_type": "code",
   "execution_count": 11,
   "id": "1edabafa-9177-4cf8-be59-33bdb51ad32a",
   "metadata": {},
   "outputs": [
    {
     "name": "stdout",
     "output_type": "stream",
     "text": [
      "in A::foo\n",
      "in B::foo\n",
      "not subclass of A/B\n"
     ]
    }
   ],
   "source": [
    "class A:\n",
    "    def foo(self):\n",
    "        print(\"in A::foo\")\n",
    "\n",
    "class B(A):\n",
    "    def foo(self):\n",
    "        print(\"in B::foo\")\n",
    "\n",
    "class C:\n",
    "    def foo(self):\n",
    "        print(\"not subclass of A/B\")\n",
    "\n",
    "def test_class(a):\n",
    "    a.foo()\n",
    "\n",
    "a = A() \n",
    "b = B()\n",
    "c = C()\n",
    "test_class(a)\n",
    "test_class(b)\n",
    "test_class(c)"
   ]
  },
  {
   "cell_type": "code",
   "execution_count": 12,
   "id": "f09dc9f0-9b05-4f99-83bc-e428edf53494",
   "metadata": {},
   "outputs": [],
   "source": [
    "# lamda演算"
   ]
  },
  {
   "cell_type": "code",
   "execution_count": 13,
   "id": "8b6de3d8-3218-4b60-8719-6e2060f1089d",
   "metadata": {},
   "outputs": [],
   "source": [
    "inc = lambda x: x + 1"
   ]
  },
  {
   "cell_type": "code",
   "execution_count": 14,
   "id": "d0d523d5-70fe-4718-92ed-f03126519bc0",
   "metadata": {},
   "outputs": [],
   "source": [
    "add = lambda x, y: x + y"
   ]
  },
  {
   "cell_type": "code",
   "execution_count": 16,
   "id": "4c5a02fc-751a-4658-84f0-1d187ca4b2e1",
   "metadata": {},
   "outputs": [
    {
     "data": {
      "text/plain": [
       "6"
      ]
     },
     "execution_count": 16,
     "metadata": {},
     "output_type": "execute_result"
    }
   ],
   "source": [
    "inc(5)\n",
    "#add(10, 20)"
   ]
  },
  {
   "cell_type": "code",
   "execution_count": 17,
   "id": "066d4dc0-fb51-4f6e-b884-5d2cbc68bc6d",
   "metadata": {},
   "outputs": [],
   "source": [
    "def outer():\n",
    "    count = 0\n",
    "    def inner():\n",
    "        nonlocal count\n",
    "        count += 1\n",
    "        return count\n",
    "    return inner"
   ]
  },
  {
   "cell_type": "code",
   "execution_count": 18,
   "id": "0777fc53-504d-4d0d-ac83-96d8e7222508",
   "metadata": {},
   "outputs": [],
   "source": [
    "counter = outer()"
   ]
  },
  {
   "cell_type": "code",
   "execution_count": 19,
   "id": "b16d98c1-ae1e-45e3-a9cf-bbe686364b6d",
   "metadata": {},
   "outputs": [
    {
     "data": {
      "text/plain": [
       "1"
      ]
     },
     "execution_count": 19,
     "metadata": {},
     "output_type": "execute_result"
    }
   ],
   "source": [
    "counter()"
   ]
  },
  {
   "cell_type": "code",
   "execution_count": 20,
   "id": "0ab8b921-5b24-483e-8f63-81b4e4a50b44",
   "metadata": {},
   "outputs": [
    {
     "data": {
      "text/plain": [
       "2"
      ]
     },
     "execution_count": 20,
     "metadata": {},
     "output_type": "execute_result"
    }
   ],
   "source": [
    "counter()"
   ]
  },
  {
   "cell_type": "code",
   "execution_count": 21,
   "id": "22782887-8cf7-48bd-9b1f-ffaf75b3311e",
   "metadata": {},
   "outputs": [],
   "source": [
    "# 偏函数\n",
    "from functools import partial\n",
    "def multiply(x, y):\n",
    "    return x * y\n",
    "\n",
    "double = partial(multiply, 2)\n",
    "triple = partial(multiply, 3)"
   ]
  },
  {
   "cell_type": "code",
   "execution_count": 22,
   "id": "d5e6ebf4-3240-46dd-aab8-604e54ab9c86",
   "metadata": {},
   "outputs": [
    {
     "data": {
      "text/plain": [
       "functools.partial(<function multiply at 0x000001F0FC9E04A0>, 2)"
      ]
     },
     "execution_count": 22,
     "metadata": {},
     "output_type": "execute_result"
    }
   ],
   "source": [
    "double"
   ]
  },
  {
   "cell_type": "code",
   "execution_count": 23,
   "id": "8a95a2fa-794a-427c-8a63-8440b1c1ff46",
   "metadata": {},
   "outputs": [
    {
     "data": {
      "text/plain": [
       "functools.partial(<function multiply at 0x000001F0FC9E04A0>, 3)"
      ]
     },
     "execution_count": 23,
     "metadata": {},
     "output_type": "execute_result"
    }
   ],
   "source": [
    "triple"
   ]
  },
  {
   "cell_type": "code",
   "execution_count": 24,
   "id": "7cf218de-cf1a-4637-8c45-05468c73df34",
   "metadata": {},
   "outputs": [
    {
     "data": {
      "text/plain": [
       "10"
      ]
     },
     "execution_count": 24,
     "metadata": {},
     "output_type": "execute_result"
    }
   ],
   "source": [
    "double(5)"
   ]
  },
  {
   "cell_type": "code",
   "execution_count": 25,
   "id": "d1cbefd2-1271-43d4-a39f-3e95a39e7cd6",
   "metadata": {},
   "outputs": [
    {
     "data": {
      "text/plain": [
       "15"
      ]
     },
     "execution_count": 25,
     "metadata": {},
     "output_type": "execute_result"
    }
   ],
   "source": [
    "triple(5)"
   ]
  },
  {
   "cell_type": "code",
   "execution_count": 27,
   "id": "41cbbd42-c259-439e-961b-dbf1a08f73a9",
   "metadata": {},
   "outputs": [
    {
     "data": {
      "text/plain": [
       "[0, 4, 8, 12, 16]"
      ]
     },
     "execution_count": 27,
     "metadata": {},
     "output_type": "execute_result"
    }
   ],
   "source": [
    "# 列表推导\n",
    "[i * 2 for i  in range(10)]\n",
    "[i * 2 for i in range(10) if i % 2 == 0]"
   ]
  },
  {
   "cell_type": "code",
   "execution_count": 28,
   "id": "aabb267a-20e6-423a-b616-552f3adf7c5a",
   "metadata": {},
   "outputs": [],
   "source": [
    "colours = [\"红\", \"绿\", \"黄\", \"蓝\"]\n",
    "things = [\"房子\", \"车\", \"树\"]\n",
    "combined = [(x, y) for x in colours for y in things]"
   ]
  },
  {
   "cell_type": "code",
   "execution_count": 29,
   "id": "80fa85d9-81f7-4e19-ae07-2707dd972104",
   "metadata": {},
   "outputs": [
    {
     "data": {
      "text/plain": [
       "[('红', '房子'),\n",
       " ('红', '车'),\n",
       " ('红', '树'),\n",
       " ('绿', '房子'),\n",
       " ('绿', '车'),\n",
       " ('绿', '树'),\n",
       " ('黄', '房子'),\n",
       " ('黄', '车'),\n",
       " ('黄', '树'),\n",
       " ('蓝', '房子'),\n",
       " ('蓝', '车'),\n",
       " ('蓝', '树')]"
      ]
     },
     "execution_count": 29,
     "metadata": {},
     "output_type": "execute_result"
    }
   ],
   "source": [
    "combined"
   ]
  },
  {
   "cell_type": "code",
   "execution_count": 30,
   "id": "127f28a0-b882-4455-b869-901f5f8ad6ea",
   "metadata": {},
   "outputs": [],
   "source": [
    "# 元组\n",
    "t = 12345, 54321, 'hello'"
   ]
  },
  {
   "cell_type": "code",
   "execution_count": 31,
   "id": "10a98e88-f2ab-43c0-ba18-8476da443c11",
   "metadata": {},
   "outputs": [
    {
     "data": {
      "text/plain": [
       "(12345, 54321, 'hello')"
      ]
     },
     "execution_count": 31,
     "metadata": {},
     "output_type": "execute_result"
    }
   ],
   "source": [
    "t"
   ]
  },
  {
   "cell_type": "code",
   "execution_count": 33,
   "id": "30447d07-bce9-48fb-9476-ef23e400b4ef",
   "metadata": {},
   "outputs": [
    {
     "data": {
      "text/plain": [
       "((12345, 54321, 'hello'), (1, 2, 3, 4, 5))"
      ]
     },
     "execution_count": 33,
     "metadata": {},
     "output_type": "execute_result"
    }
   ],
   "source": [
    "# 元组嵌套\n",
    "u = t, (1, 2, 3, 4, 5)\n",
    "u"
   ]
  },
  {
   "cell_type": "code",
   "execution_count": 34,
   "id": "9a1d1e5c-08ec-4cae-950c-45100607e91a",
   "metadata": {},
   "outputs": [
    {
     "name": "stdout",
     "output_type": "stream",
     "text": [
      "'tuple' object does not support item assignment\n"
     ]
    }
   ],
   "source": [
    "try:\n",
    "    t[0] = 88888\n",
    "except TypeError as e:\n",
    "    print(e)"
   ]
  },
  {
   "cell_type": "code",
   "execution_count": 35,
   "id": "e769bf6b-2de7-4665-8611-04f0a9ddf9c1",
   "metadata": {},
   "outputs": [],
   "source": [
    "#元组元素不能被修改\n",
    "v = ([1, 2, 3], [3, 2, 1])\n",
    "v[0][1] = 3"
   ]
  },
  {
   "cell_type": "code",
   "execution_count": 36,
   "id": "ce156c6b-a2bb-45dc-abd2-ea0ea59644e3",
   "metadata": {},
   "outputs": [],
   "source": [
    "# 元组内部嵌套了列表，则可对列表元素进行修改"
   ]
  },
  {
   "cell_type": "code",
   "execution_count": 37,
   "id": "e80c713b-cc79-4459-908f-7f3489891fd8",
   "metadata": {},
   "outputs": [
    {
     "data": {
      "text/plain": [
       "([1, 3, 3], [3, 2, 1])"
      ]
     },
     "execution_count": 37,
     "metadata": {},
     "output_type": "execute_result"
    }
   ],
   "source": [
    "v"
   ]
  },
  {
   "cell_type": "code",
   "execution_count": 38,
   "id": "33dbe89e-f807-4efd-a782-6e76e6421423",
   "metadata": {},
   "outputs": [
    {
     "data": {
      "text/plain": [
       "0"
      ]
     },
     "execution_count": 38,
     "metadata": {},
     "output_type": "execute_result"
    }
   ],
   "source": [
    "empty = ()\n",
    "singleton = 'hello'\n",
    "len(empty)"
   ]
  },
  {
   "cell_type": "code",
   "execution_count": 39,
   "id": "33cadbc0-cbb5-4a52-bc14-e93139075ed2",
   "metadata": {},
   "outputs": [
    {
     "data": {
      "text/plain": [
       "str"
      ]
     },
     "execution_count": 39,
     "metadata": {},
     "output_type": "execute_result"
    }
   ],
   "source": [
    "type(singleton)"
   ]
  },
  {
   "cell_type": "code",
   "execution_count": 40,
   "id": "2ed77fd2-abd8-4511-bed4-bdb2169c6767",
   "metadata": {},
   "outputs": [
    {
     "data": {
      "text/plain": [
       "5"
      ]
     },
     "execution_count": 40,
     "metadata": {},
     "output_type": "execute_result"
    }
   ],
   "source": [
    "len(singleton)"
   ]
  },
  {
   "cell_type": "code",
   "execution_count": 41,
   "id": "92173f7f-dce7-410d-b5a3-3f1ba982ee59",
   "metadata": {},
   "outputs": [],
   "source": [
    "s = 'hello',"
   ]
  },
  {
   "cell_type": "code",
   "execution_count": 42,
   "id": "8138927a-978e-4ef3-be81-fb58e04e1927",
   "metadata": {},
   "outputs": [
    {
     "data": {
      "text/plain": [
       "tuple"
      ]
     },
     "execution_count": 42,
     "metadata": {},
     "output_type": "execute_result"
    }
   ],
   "source": [
    "type(s)"
   ]
  },
  {
   "cell_type": "code",
   "execution_count": 43,
   "id": "30f911e4-94d7-4670-b936-e0c6d0e6ccef",
   "metadata": {},
   "outputs": [
    {
     "data": {
      "text/plain": [
       "1"
      ]
     },
     "execution_count": 43,
     "metadata": {},
     "output_type": "execute_result"
    }
   ],
   "source": [
    "len(s)"
   ]
  },
  {
   "cell_type": "code",
   "execution_count": 44,
   "id": "6168f5cb-3e6c-4039-9153-c3b31fad7284",
   "metadata": {},
   "outputs": [
    {
     "data": {
      "text/plain": [
       "{'张三': 123, '周五': 445, '李四': 412}"
      ]
     },
     "execution_count": 44,
     "metadata": {},
     "output_type": "execute_result"
    }
   ],
   "source": [
    "# 字典\n",
    "tel = {'张三':123, '周五': 445}\n",
    "tel['李四'] = 412\n",
    "tel"
   ]
  },
  {
   "cell_type": "code",
   "execution_count": 45,
   "id": "d3ac893f-26ef-489e-8a3b-1371379606b7",
   "metadata": {},
   "outputs": [
    {
     "data": {
      "text/plain": [
       "{'张三': 123, '周五': 445, '王六': 4127}"
      ]
     },
     "execution_count": 45,
     "metadata": {},
     "output_type": "execute_result"
    }
   ],
   "source": [
    "tel['张三']\n",
    "del tel['李四']\n",
    "tel['王六'] = 4127\n",
    "tel"
   ]
  },
  {
   "cell_type": "code",
   "execution_count": 47,
   "id": "b267628e-3490-4593-a1f3-44fe86691f02",
   "metadata": {},
   "outputs": [
    {
     "data": {
      "text/plain": [
       "['张三', '周五', '王六']"
      ]
     },
     "execution_count": 47,
     "metadata": {},
     "output_type": "execute_result"
    }
   ],
   "source": [
    "list(tel.keys())\n"
   ]
  },
  {
   "cell_type": "code",
   "execution_count": 48,
   "id": "b52bed92-7a08-4d06-ad67-697f9f689b1d",
   "metadata": {},
   "outputs": [
    {
     "data": {
      "text/plain": [
       "['周五', '张三', '王六']"
      ]
     },
     "execution_count": 48,
     "metadata": {},
     "output_type": "execute_result"
    }
   ],
   "source": [
    "sorted(tel.keys())\n",
    "#'张三' in tel"
   ]
  },
  {
   "cell_type": "code",
   "execution_count": 49,
   "id": "b7ec5516-f855-4842-8fc6-f9e89ef3ba3c",
   "metadata": {},
   "outputs": [
    {
     "data": {
      "text/plain": [
       "{(1, 2, 3): 4}"
      ]
     },
     "execution_count": 49,
     "metadata": {},
     "output_type": "execute_result"
    }
   ],
   "source": [
    "x = {}\n",
    "x[(1, 2, 3)] = 4\n",
    "x"
   ]
  },
  {
   "cell_type": "code",
   "execution_count": 51,
   "id": "8940e7f4-0179-474c-9cfe-59edabb130f4",
   "metadata": {},
   "outputs": [
    {
     "name": "stdout",
     "output_type": "stream",
     "text": [
      "unhashable type: 'list'\n"
     ]
    }
   ],
   "source": [
    "try:\n",
    "    x[(1, 2, [3, 4])] = 5\n",
    "except TypeError as e:\n",
    "    print(e)"
   ]
  },
  {
   "cell_type": "code",
   "execution_count": 52,
   "id": "7566ddfb-cbc1-4bfe-88a3-6caeb565630a",
   "metadata": {},
   "outputs": [
    {
     "data": {
      "text/plain": [
       "{'张三': 413, '李四': 412, '周五': 409}"
      ]
     },
     "execution_count": 52,
     "metadata": {},
     "output_type": "execute_result"
    }
   ],
   "source": [
    "dict([('张三', 413),\n",
    "      ('李四', 412),\n",
    "      ('周五', 409)])"
   ]
  },
  {
   "cell_type": "code",
   "execution_count": 53,
   "id": "c623b61f-6376-4814-b8bf-c39de852184f",
   "metadata": {},
   "outputs": [
    {
     "data": {
      "text/plain": [
       "{2: 4, 4: 16, 6: 36}"
      ]
     },
     "execution_count": 53,
     "metadata": {},
     "output_type": "execute_result"
    }
   ],
   "source": [
    "{x: x**2 for x in (2, 4, 6)}"
   ]
  },
  {
   "cell_type": "code",
   "execution_count": 54,
   "id": "94e09442-f6de-4d73-8468-af5a66d7e78b",
   "metadata": {},
   "outputs": [
    {
     "data": {
      "text/plain": [
       "{'张三': 413, '李四': 412, '周五': 409}"
      ]
     },
     "execution_count": 54,
     "metadata": {},
     "output_type": "execute_result"
    }
   ],
   "source": [
    "dict(张三 = 413, 李四 = 412, 周五 = 409)"
   ]
  },
  {
   "cell_type": "code",
   "execution_count": 56,
   "id": "94166f7c-3680-4fd1-94b3-920fdf9bffaa",
   "metadata": {},
   "outputs": [
    {
     "name": "stdout",
     "output_type": "stream",
     "text": [
      "{'physical education', 'math', 'english'}\n"
     ]
    }
   ],
   "source": [
    "# 集合\n",
    "course = {'math', 'english', 'physical education', 'math', 'english'}\n",
    "print(course)"
   ]
  },
  {
   "cell_type": "code",
   "execution_count": 57,
   "id": "087a85f1-d04d-498a-b270-431133bba5d2",
   "metadata": {},
   "outputs": [
    {
     "data": {
      "text/plain": [
       "True"
      ]
     },
     "execution_count": 57,
     "metadata": {},
     "output_type": "execute_result"
    }
   ],
   "source": [
    "'math' in course"
   ]
  },
  {
   "cell_type": "code",
   "execution_count": 58,
   "id": "b6d63ec5-e149-49e3-b9cd-98358775dd3a",
   "metadata": {},
   "outputs": [],
   "source": [
    "a = set('banana')\n",
    "b = set('carrot')"
   ]
  },
  {
   "cell_type": "code",
   "execution_count": 59,
   "id": "4b4f0b20-1e1c-40c2-8437-96fbc84c4952",
   "metadata": {},
   "outputs": [
    {
     "data": {
      "text/plain": [
       "{'b', 'n'}"
      ]
     },
     "execution_count": 59,
     "metadata": {},
     "output_type": "execute_result"
    }
   ],
   "source": [
    "a - b"
   ]
  },
  {
   "cell_type": "code",
   "execution_count": 60,
   "id": "14c7ae71-6825-43fc-ace8-4bc816dde0dc",
   "metadata": {},
   "outputs": [
    {
     "data": {
      "text/plain": [
       "{'a', 'b', 'n'}"
      ]
     },
     "execution_count": 60,
     "metadata": {},
     "output_type": "execute_result"
    }
   ],
   "source": [
    "a"
   ]
  },
  {
   "cell_type": "code",
   "execution_count": 61,
   "id": "d14ff48c-78aa-47ab-8e7e-0ad2486f84ae",
   "metadata": {},
   "outputs": [
    {
     "data": {
      "text/plain": [
       "{'a', 'b', 'c', 'n', 'o', 'r', 't'}"
      ]
     },
     "execution_count": 61,
     "metadata": {},
     "output_type": "execute_result"
    }
   ],
   "source": [
    "a | b"
   ]
  },
  {
   "cell_type": "code",
   "execution_count": 62,
   "id": "1654f35d-403b-4cfe-8474-a722635d096d",
   "metadata": {},
   "outputs": [
    {
     "data": {
      "text/plain": [
       "{'b', 'c', 'n', 'o', 'r', 't'}"
      ]
     },
     "execution_count": 62,
     "metadata": {},
     "output_type": "execute_result"
    }
   ],
   "source": [
    "a ^ b"
   ]
  },
  {
   "cell_type": "code",
   "execution_count": 63,
   "id": "bd649f8c-aee2-49e5-b4e4-a26d161e4397",
   "metadata": {},
   "outputs": [],
   "source": [
    "a = {x for x in 'abracadabra' if x not in 'abc'}"
   ]
  },
  {
   "cell_type": "code",
   "execution_count": 64,
   "id": "1758f119-02d9-4df6-939b-24e6c5c62aac",
   "metadata": {},
   "outputs": [
    {
     "data": {
      "text/plain": [
       "{'d', 'r'}"
      ]
     },
     "execution_count": 64,
     "metadata": {},
     "output_type": "execute_result"
    }
   ],
   "source": [
    "a"
   ]
  },
  {
   "cell_type": "code",
   "execution_count": null,
   "id": "c9f52540-fe85-4fd2-9bbf-beddc64a9c83",
   "metadata": {},
   "outputs": [],
   "source": []
  }
 ],
 "metadata": {
  "kernelspec": {
   "display_name": "Python 3 (ipykernel)",
   "language": "python",
   "name": "python3"
  },
  "language_info": {
   "codemirror_mode": {
    "name": "ipython",
    "version": 3
   },
   "file_extension": ".py",
   "mimetype": "text/x-python",
   "name": "python",
   "nbconvert_exporter": "python",
   "pygments_lexer": "ipython3",
   "version": "3.12.6"
  }
 },
 "nbformat": 4,
 "nbformat_minor": 5
}
