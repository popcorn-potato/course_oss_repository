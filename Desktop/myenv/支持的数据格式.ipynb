{
 "cells": [
  {
   "cell_type": "code",
   "execution_count": 3,
   "id": "ef31eca3-8444-4a4c-aaa9-9e0a4398d936",
   "metadata": {},
   "outputs": [],
   "source": [
    "import re"
   ]
  },
  {
   "cell_type": "code",
   "execution_count": 4,
   "id": "a7c757bf-fd0d-4871-a469-27fac692b41e",
   "metadata": {},
   "outputs": [],
   "source": [
    "m = re.match(r\"ab\", \"abbb\") "
   ]
  },
  {
   "cell_type": "code",
   "execution_count": 5,
   "id": "32738b26-a166-440f-86c3-a8558f04248b",
   "metadata": {},
   "outputs": [
    {
     "name": "stdout",
     "output_type": "stream",
     "text": [
      "ab\n"
     ]
    }
   ],
   "source": [
    "if m:\n",
    "    print(m.group())\n",
    "else:\n",
    "    print(\"not match\")"
   ]
  },
  {
   "cell_type": "code",
   "execution_count": null,
   "id": "552a687a-5d1e-45b8-a6f5-d63ee124ad31",
   "metadata": {},
   "outputs": [],
   "source": [
    "pattern = "
   ]
  },
  {
   "cell_type": "code",
   "execution_count": 6,
   "id": "ea446fbd-78bb-4efa-bf6a-702f5894b150",
   "metadata": {
    "scrolled": true
   },
   "outputs": [
    {
     "ename": "NameError",
     "evalue": "name 'pattern' is not defined",
     "output_type": "error",
     "traceback": [
      "\u001b[1;31m---------------------------------------------------------------------------\u001b[0m",
      "\u001b[1;31mNameError\u001b[0m                                 Traceback (most recent call last)",
      "Cell \u001b[1;32mIn[6], line 1\u001b[0m\n\u001b[1;32m----> 1\u001b[0m m \u001b[38;5;241m=\u001b[39m \u001b[43mpattern\u001b[49m\u001b[38;5;241m.\u001b[39mmatch(\u001b[38;5;124m\"\u001b[39m\u001b[38;5;124mdabc a123 a a123\u001b[39m\u001b[38;5;124m\"\u001b[39m)\n",
      "\u001b[1;31mNameError\u001b[0m: name 'pattern' is not defined"
     ]
    }
   ],
   "source": [
    "m = pattern.match(\"dabc a123 a a123\")"
   ]
  },
  {
   "cell_type": "code",
   "execution_count": 9,
   "id": "5a3fc5a3-57cd-419f-8976-0ba3c8cf9121",
   "metadata": {},
   "outputs": [
    {
     "data": {
      "text/plain": [
       "['a', '2', 'c']"
      ]
     },
     "execution_count": 9,
     "metadata": {},
     "output_type": "execute_result"
    }
   ],
   "source": [
    "re.findall(r\"(.+)\\1\", \"aa b123 b22 ccc3\")"
   ]
  },
  {
   "cell_type": "code",
   "execution_count": null,
   "id": "05761dc5-be11-44c6-9a25-f8600368e35b",
   "metadata": {},
   "outputs": [],
   "source": []
  }
 ],
 "metadata": {
  "kernelspec": {
   "display_name": "Python 3 (ipykernel)",
   "language": "python",
   "name": "python3"
  },
  "language_info": {
   "codemirror_mode": {
    "name": "ipython",
    "version": 3
   },
   "file_extension": ".py",
   "mimetype": "text/x-python",
   "name": "python",
   "nbconvert_exporter": "python",
   "pygments_lexer": "ipython3",
   "version": "3.12.6"
  }
 },
 "nbformat": 4,
 "nbformat_minor": 5
}
