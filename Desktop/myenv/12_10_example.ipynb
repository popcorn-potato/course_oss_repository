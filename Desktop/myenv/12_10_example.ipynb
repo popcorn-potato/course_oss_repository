{
 "cells": [
  {
   "cell_type": "code",
   "execution_count": 1,
   "id": "80e68b21-0a33-4479-beda-45f29819d68f",
   "metadata": {},
   "outputs": [],
   "source": [
    "import graphviz"
   ]
  },
  {
   "cell_type": "code",
   "execution_count": 2,
   "id": "c587cab3-c4f0-4fad-be9a-9abad0e661bb",
   "metadata": {},
   "outputs": [],
   "source": [
    "graph = graphviz.Graph()"
   ]
  },
  {
   "cell_type": "code",
   "execution_count": 3,
   "id": "6600a45e-250b-4af3-8353-080a56c84a26",
   "metadata": {},
   "outputs": [],
   "source": [
    "graph.node(\"A\")\n",
    "graph.node(\"A\")\n",
    "graph.edge(\"A\", \"B\")"
   ]
  },
  {
   "cell_type": "code",
   "execution_count": 4,
   "id": "85141ee6-43d5-46b2-8328-c31c30298fbb",
   "metadata": {},
   "outputs": [
    {
     "data": {
      "text/plain": [
       "'graph.dot'"
      ]
     },
     "execution_count": 4,
     "metadata": {},
     "output_type": "execute_result"
    }
   ],
   "source": [
    "graph.save(\"graph.dot\")"
   ]
  },
  {
   "cell_type": "code",
   "execution_count": 5,
   "id": "b538501f-d32e-4940-99de-b159b40a60bc",
   "metadata": {},
   "outputs": [
    {
     "data": {
      "text/plain": [
       "'graph.dot.pdf'"
      ]
     },
     "execution_count": 5,
     "metadata": {},
     "output_type": "execute_result"
    }
   ],
   "source": [
    "graph.render()"
   ]
  },
  {
   "cell_type": "code",
   "execution_count": 6,
   "id": "64a1f722-5e6d-455e-b74c-a0b8b68e782d",
   "metadata": {},
   "outputs": [],
   "source": [
    "diagraph = graphviz.Digraph()"
   ]
  },
  {
   "cell_type": "code",
   "execution_count": 7,
   "id": "cdffb7d5-b753-4ec0-9e5c-0d354994b255",
   "metadata": {},
   "outputs": [],
   "source": [
    "diagraph.node(\"A\")\n",
    "diagraph.node(\"B\")\n",
    "diagraph.node(\"C\")\n",
    "diagraph.edge(\"A\", \"B\")\n",
    "diagraph.edge(\"B\", \"C\")\n",
    "diagraph.edge(\"C\", \"A\")"
   ]
  },
  {
   "cell_type": "code",
   "execution_count": 8,
   "id": "c97996cb-70f6-49ae-9339-391e6a143659",
   "metadata": {},
   "outputs": [
    {
     "data": {
      "text/plain": [
       "'diagraph.dot'"
      ]
     },
     "execution_count": 8,
     "metadata": {},
     "output_type": "execute_result"
    }
   ],
   "source": [
    "diagraph.save(\"diagraph.dot\")"
   ]
  },
  {
   "cell_type": "code",
   "execution_count": 9,
   "id": "311ce38d-28ff-4e2d-8d79-1e019454c1d0",
   "metadata": {},
   "outputs": [
    {
     "data": {
      "text/plain": [
       "'diagraph.dot.pdf'"
      ]
     },
     "execution_count": 9,
     "metadata": {},
     "output_type": "execute_result"
    }
   ],
   "source": [
    "diagraph.render()"
   ]
  },
  {
   "cell_type": "code",
   "execution_count": 10,
   "id": "5844c7fc-5dd2-488c-9598-03bb0f9b1728",
   "metadata": {},
   "outputs": [],
   "source": [
    "input_string = \"zhang san, Li si, zhou wu\""
   ]
  },
  {
   "cell_type": "code",
   "execution_count": 12,
   "id": "3ff53589-58a5-4c97-96e3-31605234c0d5",
   "metadata": {},
   "outputs": [],
   "source": [
    "splitted = input_string.split(\", \")"
   ]
  },
  {
   "cell_type": "code",
   "execution_count": 13,
   "id": "c7753b11-2792-4396-b2ed-68d1d7479682",
   "metadata": {},
   "outputs": [
    {
     "data": {
      "text/plain": [
       "['zhang san', 'Li si', 'zhou wu']"
      ]
     },
     "execution_count": 13,
     "metadata": {},
     "output_type": "execute_result"
    }
   ],
   "source": [
    "splitted"
   ]
  },
  {
   "cell_type": "code",
   "execution_count": 15,
   "id": "37a00d6c-39d4-473d-be20-f7d47ba8c3c7",
   "metadata": {},
   "outputs": [
    {
     "name": "stdout",
     "output_type": "stream",
     "text": [
      "zhang san - Li si\n",
      "zhang san - zhou wu\n",
      "Li si - zhou wu\n"
     ]
    }
   ],
   "source": [
    "for i in range(len(splitted)):\n",
    "    for j in range(i+1, len(splitted)):\n",
    "        print(f\"{splitted[i]} - {splitted[j]}\")"
   ]
  },
  {
   "cell_type": "code",
   "execution_count": 16,
   "id": "213fafe8-1369-441d-b877-e827e3d7b017",
   "metadata": {},
   "outputs": [],
   "source": [
    "import itertools"
   ]
  },
  {
   "cell_type": "code",
   "execution_count": 18,
   "id": "bb63e8b7-1e42-4b3d-ac8b-ca8765ddc47d",
   "metadata": {},
   "outputs": [
    {
     "data": {
      "text/plain": [
       "\u001b[1;31mInit signature:\u001b[0m \u001b[0mitertools\u001b[0m\u001b[1;33m.\u001b[0m\u001b[0mcombinations\u001b[0m\u001b[1;33m(\u001b[0m\u001b[0miterable\u001b[0m\u001b[1;33m,\u001b[0m \u001b[0mr\u001b[0m\u001b[1;33m)\u001b[0m\u001b[1;33m\u001b[0m\u001b[1;33m\u001b[0m\u001b[0m\n",
       "\u001b[1;31mDocstring:\u001b[0m     \n",
       "Return successive r-length combinations of elements in the iterable.\n",
       "\n",
       "combinations(range(4), 3) --> (0,1,2), (0,1,3), (0,2,3), (1,2,3)\n",
       "\u001b[1;31mType:\u001b[0m           type\n",
       "\u001b[1;31mSubclasses:\u001b[0m     "
      ]
     },
     "metadata": {},
     "output_type": "display_data"
    }
   ],
   "source": [
    "itertools.combinations?"
   ]
  },
  {
   "cell_type": "code",
   "execution_count": 20,
   "id": "ab0ea62e-040b-4e6c-bb6d-33347027bee9",
   "metadata": {},
   "outputs": [
    {
     "name": "stdout",
     "output_type": "stream",
     "text": [
      "zhang san, Li si\n",
      "zhang san, zhou wu\n",
      "Li si, zhou wu\n"
     ]
    }
   ],
   "source": [
    "for combo in itertools.combinations(splitted, 2):\n",
    "    print(f\"{combo[0]}, {combo[1]}\")"
   ]
  },
  {
   "cell_type": "code",
   "execution_count": 22,
   "id": "fd498d34-758e-4630-8b2e-9885c862d762",
   "metadata": {},
   "outputs": [],
   "source": [
    "import requests"
   ]
  },
  {
   "cell_type": "code",
   "execution_count": 23,
   "id": "88a1427a-8ec7-46b0-809c-492f7be9e9ab",
   "metadata": {},
   "outputs": [],
   "source": [
    "url = \"https://peps.python.org/numerical/\"\n",
    "response = requests.get(url)"
   ]
  },
  {
   "cell_type": "code",
   "execution_count": 24,
   "id": "abae3810-7567-44dc-940a-ae25d31205cc",
   "metadata": {},
   "outputs": [
    {
     "data": {
      "text/plain": [
       "'utf-8'"
      ]
     },
     "execution_count": 24,
     "metadata": {},
     "output_type": "execute_result"
    }
   ],
   "source": [
    "response.apparent_encoding"
   ]
  },
  {
   "cell_type": "code",
   "execution_count": 25,
   "id": "23cbcd7c-a40c-4782-917b-ff9a6a2f65f8",
   "metadata": {},
   "outputs": [],
   "source": [
    "from bs4 import BeautifulSoup"
   ]
  },
  {
   "cell_type": "code",
   "execution_count": 26,
   "id": "8e2f638e-bba3-4f93-99fb-ace8a7cc3c11",
   "metadata": {},
   "outputs": [],
   "source": [
    "doc = BeautifulSoup(response.text)"
   ]
  },
  {
   "cell_type": "code",
   "execution_count": 31,
   "id": "bf0cdca9-f6d8-47e1-979f-7c35e5a6bfc9",
   "metadata": {},
   "outputs": [],
   "source": [
    "id1 = doc.find(\"span\", attrs={\"id\": \"id1\"})"
   ]
  },
  {
   "cell_type": "code",
   "execution_count": 32,
   "id": "8785418b-6ff8-45c7-8821-b1da7a8483a6",
   "metadata": {},
   "outputs": [],
   "source": [
    "table = id1.find_next(\"table\")"
   ]
  },
  {
   "cell_type": "code",
   "execution_count": 34,
   "id": "0d89f31c-7cf7-48a0-b3df-fd4d5ab99867",
   "metadata": {},
   "outputs": [
    {
     "data": {
      "text/plain": [
       "'author_graph.dot.pdf'"
      ]
     },
     "execution_count": 34,
     "metadata": {},
     "output_type": "execute_result"
    }
   ],
   "source": [
    "author_graph = graphviz.Graph()\n",
    "tbody = table.tbody\n",
    "for tr in tbody.find_all(\"tr\"):\n",
    "    tds = tr.find_all(\"td\")\n",
    "    if len(tds) < 4:\n",
    "        continue\n",
    "    authors = tds[3].text\n",
    "    splitted = authors.split(\", \")\n",
    "    for combo in itertools.combinations(splitted, 2):\n",
    "        author_graph.edge(combo[0], combo[1])\n",
    "author_graph.save(\"author_graph.dot\")\n",
    "author_graph.render()"
   ]
  },
  {
   "cell_type": "code",
   "execution_count": 35,
   "id": "77ea6bba-1f6c-4740-aca2-7ed803f15d01",
   "metadata": {},
   "outputs": [
    {
     "ename": "NameError",
     "evalue": "name 'dot' is not defined",
     "output_type": "error",
     "traceback": [
      "\u001b[1;31m---------------------------------------------------------------------------\u001b[0m",
      "\u001b[1;31mNameError\u001b[0m                                 Traceback (most recent call last)",
      "Cell \u001b[1;32mIn[35], line 3\u001b[0m\n\u001b[0;32m      1\u001b[0m \u001b[38;5;66;03m#找出一个作者在多少个文档中出现；在哪几个文档中出现\u001b[39;00m\n\u001b[0;32m      2\u001b[0m author_dict \u001b[38;5;241m=\u001b[39m {}\n\u001b[1;32m----> 3\u001b[0m \u001b[38;5;28;01mfor\u001b[39;00m tr \u001b[38;5;129;01min\u001b[39;00m \u001b[43mdot\u001b[49m\u001b[38;5;241m.\u001b[39mtable\u001b[38;5;241m.\u001b[39mtbody\u001b[38;5;241m.\u001b[39mfind_all(\u001b[38;5;124m\"\u001b[39m\u001b[38;5;124mtr\u001b[39m\u001b[38;5;124m\"\u001b[39m):\n\u001b[0;32m      4\u001b[0m     tds \u001b[38;5;241m=\u001b[39m tr\u001b[38;5;241m.\u001b[39mfind_all(\u001b[38;5;124m\"\u001b[39m\u001b[38;5;124mtd\u001b[39m\u001b[38;5;124m\"\u001b[39m)\n\u001b[0;32m      5\u001b[0m     \u001b[38;5;28;01mif\u001b[39;00m \u001b[38;5;28mlen\u001b[39m(tds) \u001b[38;5;241m<\u001b[39m \u001b[38;5;241m4\u001b[39m:\n",
      "\u001b[1;31mNameError\u001b[0m: name 'dot' is not defined"
     ]
    }
   ],
   "source": [
    "#找出一个作者在多少个文档中出现；在哪几个文档中出现\n",
    "author_dict = {}\n",
    "for tr in dot.table.tbody.find_all(\"tr\"):\n",
    "    tds = tr.find_all(\"td\")\n",
    "    if len(tds) < 4:\n",
    "        continue\n",
    "    pep_id = tds[1].text\n",
    "    authors = tds[3].text\n",
    "    authors_list = authors.split(\", \")\n",
    "    for author in author_list:\n",
    "        if not author in author_dict:\n",
    "            author_dict[author] = {pep_id}#不在就追加\n",
    "        else:\n",
    "            author_dict[author].append(pep_id)#在就append\n"
   ]
  },
  {
   "cell_type": "code",
   "execution_count": null,
   "id": "897255c1-9061-4417-b006-3c23b79604bd",
   "metadata": {},
   "outputs": [],
   "source": [
    "max_num = 0\n",
    "max_author = \"\"\n",
    "for author in author_dict:\n",
    "    if len(author_dict[author]) > max_num:\n",
    "        max_num = len(author_dict)\n",
    "        max_author = author"
   ]
  },
  {
   "cell_type": "code",
   "execution_count": 36,
   "id": "7d92f5a0-b60f-4505-9a8e-ff6d3f351130",
   "metadata": {},
   "outputs": [],
   "source": [
    "from functools import reduce"
   ]
  },
  {
   "cell_type": "code",
   "execution_count": null,
   "id": "1853c0a4-883d-410e-bd77-f9e135d62866",
   "metadata": {},
   "outputs": [],
   "source": [
    "def more_pep(author1, author2):\n",
    "    id len(author_dict[author1]) > len(author_dict[author2]) "
   ]
  }
 ],
 "metadata": {
  "kernelspec": {
   "display_name": "Python 3 (ipykernel)",
   "language": "python",
   "name": "python3"
  },
  "language_info": {
   "codemirror_mode": {
    "name": "ipython",
    "version": 3
   },
   "file_extension": ".py",
   "mimetype": "text/x-python",
   "name": "python",
   "nbconvert_exporter": "python",
   "pygments_lexer": "ipython3",
   "version": "3.12.6"
  }
 },
 "nbformat": 4,
 "nbformat_minor": 5
}
