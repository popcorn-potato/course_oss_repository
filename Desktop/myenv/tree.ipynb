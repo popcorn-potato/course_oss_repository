{
 "cells": [
  {
   "cell_type": "code",
   "execution_count": 1,
   "id": "42f23a4f-fe4b-4736-a683-86eb0aee58a2",
   "metadata": {},
   "outputs": [],
   "source": [
    "class TNode:\n",
    "    def __init__(self, value, left = None, right = None):\n",
    "        self.value = value\n",
    "        self.left = left\n",
    "        self.right = right\n",
    "        "
   ]
  },
  {
   "cell_type": "code",
   "execution_count": 2,
   "id": "cf037318-3260-473e-a4c9-75f9ce857872",
   "metadata": {},
   "outputs": [],
   "source": [
    "node = TNode(3, None, None)"
   ]
  },
  {
   "cell_type": "code",
   "execution_count": 3,
   "id": "07085578-a54b-452a-8f8e-ba4d27d0cd59",
   "metadata": {},
   "outputs": [],
   "source": [
    "tree = TNode(5, TNode(3), TNode(4, TNode(7), TNode(8)))"
   ]
  },
  {
   "cell_type": "code",
   "execution_count": 6,
   "id": "155dd239-bfe3-476e-b010-7cd615731e67",
   "metadata": {},
   "outputs": [],
   "source": [
    "# 二叉搜索树\n",
    "def insert_bst(node, value):\n",
    "    if not node:\n",
    "        return TNode(value)\n",
    "    elif node.value < value:\n",
    "        return TNode(node.value, node.left, insert_bst(node.right, value))\n",
    "    elif node.value == value:\n",
    "        return node\n",
    "    else:\n",
    "        return TNode(node.value, insert_bst(node.left, value), node.right)\n",
    "    "
   ]
  },
  {
   "cell_type": "code",
   "execution_count": 13,
   "id": "d71fdd94-036f-4b2a-b14d-98e848b6aeda",
   "metadata": {},
   "outputs": [],
   "source": [
    "a = insert_bst(None, 5)\n",
    "b = insert_bst(a, 4)\n",
    "c = insert_bst(b, 6)\n",
    "d = insert_bst(c, 7)"
   ]
  },
  {
   "cell_type": "code",
   "execution_count": 14,
   "id": "81b64bff-2560-4464-8538-ded4d7bf0740",
   "metadata": {},
   "outputs": [],
   "source": [
    "# 中序遍历\n",
    "def traverse(node):\n",
    "    if not node:\n",
    "        return \n",
    "    else:\n",
    "        #left\n",
    "        traverse(node.left)\n",
    "        #node\n",
    "        print(node.value)\n",
    "        #right\n",
    "        traverse(node.right)\n",
    "        "
   ]
  },
  {
   "cell_type": "code",
   "execution_count": 15,
   "id": "3e23b35a-bf48-4128-ac3b-93e5a120a398",
   "metadata": {},
   "outputs": [
    {
     "name": "stdout",
     "output_type": "stream",
     "text": [
      "5\n"
     ]
    }
   ],
   "source": [
    "traverse(a)"
   ]
  },
  {
   "cell_type": "code",
   "execution_count": 16,
   "id": "fb7d9e12-ce4c-496d-ab6a-1e9390a9e6f9",
   "metadata": {},
   "outputs": [
    {
     "name": "stdout",
     "output_type": "stream",
     "text": [
      "4\n",
      "5\n",
      "6\n",
      "7\n"
     ]
    }
   ],
   "source": [
    "traverse(d)"
   ]
  },
  {
   "cell_type": "code",
   "execution_count": 12,
   "id": "d56f7b97-4999-4988-84b7-f254e0c601f6",
   "metadata": {},
   "outputs": [
    {
     "name": "stdout",
     "output_type": "stream",
     "text": [
      "4\n",
      "5\n"
     ]
    }
   ],
   "source": [
    "traverse(b)"
   ]
  },
  {
   "cell_type": "code",
   "execution_count": 17,
   "id": "ef0e0e59-2c50-4d83-ab38-64c6debb2431",
   "metadata": {},
   "outputs": [],
   "source": [
    "from urllib import robotparser"
   ]
  },
  {
   "cell_type": "code",
   "execution_count": 18,
   "id": "eb2acac4-b1fb-4624-b6ed-cb043f21a89a",
   "metadata": {},
   "outputs": [],
   "source": [
    "rp = robotparser.RobotFileParser()"
   ]
  },
  {
   "cell_type": "code",
   "execution_count": 20,
   "id": "051a1941-0b56-458e-a716-f91ff551731c",
   "metadata": {},
   "outputs": [],
   "source": [
    "rp.set_url(\"https://www.baidu.com/\")\n",
    "rp.read()"
   ]
  },
  {
   "cell_type": "code",
   "execution_count": null,
   "id": "fc406230-64a6-42f6-97f4-a3710dfdda88",
   "metadata": {},
   "outputs": [],
   "source": [
    "rp.can_fetch(\"https://www.baidu.com/abc\")"
   ]
  },
  {
   "cell_type": "code",
   "execution_count": 24,
   "id": "2ede3dbe-3176-4baf-9e59-e852a9908b75",
   "metadata": {},
   "outputs": [],
   "source": [
    "url = \"http://httpbin.org/get\"\n"
   ]
  },
  {
   "cell_type": "code",
   "execution_count": null,
   "id": "7ce1fa7a-e446-4276-bc4a-52dcc900e57e",
   "metadata": {},
   "outputs": [],
   "source": []
  }
 ],
 "metadata": {
  "kernelspec": {
   "display_name": "Python 3 (ipykernel)",
   "language": "python",
   "name": "python3"
  },
  "language_info": {
   "codemirror_mode": {
    "name": "ipython",
    "version": 3
   },
   "file_extension": ".py",
   "mimetype": "text/x-python",
   "name": "python",
   "nbconvert_exporter": "python",
   "pygments_lexer": "ipython3",
   "version": "3.12.6"
  }
 },
 "nbformat": 4,
 "nbformat_minor": 5
}
