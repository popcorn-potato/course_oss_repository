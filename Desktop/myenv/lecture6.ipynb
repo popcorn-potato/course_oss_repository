{
 "cells": [
  {
   "cell_type": "code",
   "execution_count": 2,
   "id": "7368114e-0f97-460b-9144-4044ae67af50",
   "metadata": {},
   "outputs": [],
   "source": [
    "import urllib.robotparser\n"
   ]
  },
  {
   "cell_type": "code",
   "execution_count": 3,
   "id": "13a24462-c99c-4fa9-880f-546ccce30886",
   "metadata": {},
   "outputs": [],
   "source": [
    "url_prefix = \"localhost:8888\"\n",
    "# 根据当前地址栏的端口设置端口\n",
    "rp = urllib.robotparser.RobotFileParser()\n",
    "robots_url = \"http://%s/view/robots.txt\" % url_prefix"
   ]
  },
  {
   "cell_type": "code",
   "execution_count": 4,
   "id": "09c3e3ac-47e0-4855-b147-e0504ff4f344",
   "metadata": {},
   "outputs": [
    {
     "data": {
      "text/plain": [
       "'http://localhost:8888/view/robots.txt'"
      ]
     },
     "execution_count": 4,
     "metadata": {},
     "output_type": "execute_result"
    }
   ],
   "source": [
    "robots_url"
   ]
  },
  {
   "cell_type": "code",
   "execution_count": 5,
   "id": "0a3b5bd2-1c56-4ed8-9fe7-6602aefe717b",
   "metadata": {},
   "outputs": [
    {
     "data": {
      "text/plain": [
       "True"
      ]
     },
     "execution_count": 5,
     "metadata": {},
     "output_type": "execute_result"
    }
   ],
   "source": [
    "rp.set_url(robots_url)\n",
    "rp.read()\n",
    "rp.can_fetch(\"Baiduspider\", \"http://%s/\" % url_prefix)"
   ]
  },
  {
   "cell_type": "code",
   "execution_count": 6,
   "id": "39b59a9c-3f81-4611-85b0-694466e0ded7",
   "metadata": {},
   "outputs": [
    {
     "data": {
      "text/plain": [
       "True"
      ]
     },
     "execution_count": 6,
     "metadata": {},
     "output_type": "execute_result"
    }
   ],
   "source": [
    "rp.can_fetch(\"Baiduspider\", \"http://%s/article/\" % url_prefix)"
   ]
  },
  {
   "cell_type": "code",
   "execution_count": 7,
   "id": "a37cde67-eaf8-447e-8d53-ac30a9d6399c",
   "metadata": {},
   "outputs": [],
   "source": [
    "import requests"
   ]
  },
  {
   "cell_type": "code",
   "execution_count": 8,
   "id": "440b8286-901d-4603-a019-04945bd3f7b7",
   "metadata": {},
   "outputs": [
    {
     "name": "stdout",
     "output_type": "stream",
     "text": [
      "<!DOCTYPE HTML>\n",
      "<html>\n",
      "\n",
      "<head>\n",
      "\n",
      "    <meta charset=\"utf-8\">\n",
      "\n",
      "    <title>Jupyter Server</title>\n",
      "    <link id=\"favicon\" rel=\"shortcut icon\" type=\"image/x-icon\" href=\"/static/favicon.ico?v=50afa725b5de8b00030139d09b38620224d4e7dba47c07ef0e86d4643f30c9bfe6bb7e1a4a1c561aa32834480909a4b6fe7cd1e17f7159330b6b5914bf45a880\">\n",
      "    \n",
      "    <link rel=\"stylesheet\" href=\"/static/style/bootstrap.min.css?v=0e8a7fbd6de23ad6b27ab95802a0a0915af6693af612bc304d83af445529ce5d95842309ca3405d10f538d45c8a3a261b8cff78b4bd512dd9effb4109a71d0ab\" />\n",
      "    <link rel=\"stylesheet\" href=\"/static/style/bootstrap-theme.min.css?v=8b2f045cb5b4d5ad346f6e816aa2566829a4f5f2783ec31d80d46a57de8ac0c3d21fe6e53bcd8e1f38ac17fcd06d12088bc9b43e23b5d1da52d10c6b717b22b3\" />\n",
      "    <link rel=\"stylesheet\" href=\"/static/style/index.css?v=30372e3246a801d662cf9e3f9dd656fa192eebde9054a2282449fe43919de9f0ee9b745d7eb49d3b0a5e56357912cc7d776390eddcab9dac85b77bdb17b4bdae\" />\n",
      "    <meta http-equiv=\"X-UA-Compatible\" content=\"IE=edge\" />\n",
      "    <meta name=\"viewport\" content=\"width=device-width, initial-scale=1.0\">\n",
      "\n",
      "    \n",
      "\n",
      "\n",
      "    \n",
      "    \n",
      "\n",
      "</head>\n",
      "\n",
      "<body class=\"\"    dir=\"ltr\">\n",
      "\n",
      "  <noscript>\n",
      "    <div id='noscript'>\n",
      "      Jupyter Server requires JavaScript.<br>\n",
      "      Please enable it to proceed. \n",
      "    </div>\n",
      "  </noscript>\n",
      "\n",
      "  <div id=\"header\" role=\"navigation\" aria-label=\"Top Menu\">\n",
      "    <div id=\"header-container\" class=\"container\">\n",
      "      <div id=\"jupyter_server\" class=\"nav navbar-brand\"><a href=\"/tree\" title='dashboard'>\n",
      "          <img src='/static/logo/logo.png?v=a2a176ee3cee251ffddf5fa21fe8e43727a9e5f87a06f9c91ad7b776d9e9d3d5e0159c16cc188a3965e00375fb4bc336c16067c688f5040c0c2d4bfdb852a9e4' alt='Jupyter Server' />\n",
      "        </a></div>\n",
      "\n",
      "      \n",
      "      \n",
      "\n",
      "      \n",
      "      \n",
      "\n",
      "    </div>\n",
      "    <div class=\"header-bar\"></div>\n",
      "\n",
      "    \n",
      "    \n",
      "  </div>\n",
      "\n",
      "  <div id=\"site\">\n",
      "    \n",
      "\n",
      "<div id=\"jupyter-main-app\" class=\"container\">\n",
      "    \n",
      "    \n",
      "    <div class=\"row\">\n",
      "        <div class=\"navbar col-sm-8\">\n",
      "            <div class=\"navbar-inner\">\n",
      "                <div class=\"container\">\n",
      "                    <div class=\"center-nav\">\n",
      "                        <form action=\"/login?next=%2Fview%2Fcrawlme.html\" method=\"post\" class=\"navbar-form pull-left\">\n",
      "                            <input type=\"hidden\" name=\"_xsrf\" value=\"2|c900e62d|ec18f5e9e647278a32a5a92c4758305b|1737027095\"/>\n",
      "                            \n",
      "                            <label for=\"password_input\"><strong>Password or token:</strong></label>\n",
      "                            \n",
      "                            <input type=\"password\" name=\"password\" id=\"password_input\" class=\"form-control\">\n",
      "                            <button type=\"submit\" class=\"btn btn-default\" id=\"login_submit\">Log in</button>\n",
      "                        </form>\n",
      "                    </div>\n",
      "                </div>\n",
      "            </div>\n",
      "        </div>\n",
      "    </div>\n",
      "    \n",
      "    \n",
      "    \n",
      "    \n",
      "    <div class=\"col-sm-6 col-sm-offset-3 text-left rendered_html\">\n",
      "        <h3>\n",
      "            Token authentication is enabled\n",
      "        </h3>\n",
      "        <p>\n",
      "            If no password has been configured, you need to open the\n",
      "            server with its login token in the URL, or paste it above.\n",
      "            This requirement will be lifted if you\n",
      "            <b><a href='https://jupyter-server.readthedocs.io/en/latest/operators/public-server.html'>\n",
      "                    enable a password</a></b>.\n",
      "        </p>\n",
      "        <p>\n",
      "            The command:\n",
      "        <pre>jupyter server list</pre>\n",
      "        will show you the URLs of running servers with their tokens,\n",
      "        which you can copy and paste into your browser. For example:\n",
      "        </p>\n",
      "        <pre>Currently running servers:\n",
      "http://localhost:8888/?token=c8de56fa... :: /Users/you/notebooks\n",
      "</pre>\n",
      "        <p>\n",
      "            or you can paste just the token value into the password field on this\n",
      "            page.\n",
      "        </p>\n",
      "        <p>\n",
      "            See\n",
      "            <b><a href='https://jupyter-server.readthedocs.io/en/latest/operators/public-server.html'>\n",
      "                    the documentation on how to enable a password</a>\n",
      "            </b>\n",
      "            in place of token authentication,\n",
      "            if you would like to avoid dealing with random tokens.\n",
      "        </p>\n",
      "        <p>\n",
      "            Cookies are required for authenticated access to the Jupyter server.\n",
      "        </p>\n",
      "        \n",
      "        <h3>Setup a Password</h3>\n",
      "        <p> You can also setup a password by entering your token and a new password\n",
      "            on the fields below:</p>\n",
      "        <form action=\"/login?next=%2Fview%2Fcrawlme.html\" method=\"post\" class=\"\">\n",
      "            <input type=\"hidden\" name=\"_xsrf\" value=\"2|c900e62d|ec18f5e9e647278a32a5a92c4758305b|1737027095\"/>\n",
      "            <div class=\"form-group\">\n",
      "                <label for=\"token_input\">\n",
      "                    <h4>Token</h4>\n",
      "                </label>\n",
      "                <input type=\"password\" name=\"password\" id=\"token_input\" class=\"form-control\">\n",
      "            </div>\n",
      "            <div class=\"form-group\">\n",
      "                <label for=\"new_password_input\">\n",
      "                    <h4>New Password</h4>\n",
      "                </label>\n",
      "                <input type=\"password\" name=\"new_password\" id=\"new_password_input\" class=\"form-control\" required>\n",
      "            </div>\n",
      "            <div class=\"form-group\">\n",
      "                <button type=\"submit\" class=\"btn btn-default\" id=\"login_new_pass_submit\">Log in and set new\n",
      "                    password</button>\n",
      "            </div>\n",
      "        </form>\n",
      "        \n",
      "\n",
      "    </div>\n",
      "    \n",
      "    \n",
      "</div>\n",
      "\n",
      "\n",
      "  </div>\n",
      "\n",
      "  \n",
      "  \n",
      "\n",
      "  \n",
      "\n",
      "\n",
      "  <script type='text/javascript'>\n",
      "    function _remove_token_from_url() {\n",
      "      if (window.location.search.length <= 1) {\n",
      "        return;\n",
      "      }\n",
      "      var search_parameters = window.location.search.slice(1).split('&');\n",
      "      for (var i = 0; i < search_parameters.length; i++) {\n",
      "        if (search_parameters[i].split('=')[0] === 'token') {\n",
      "          // remote token from search parameters\n",
      "          search_parameters.splice(i, 1);\n",
      "          var new_search = '';\n",
      "          if (search_parameters.length) {\n",
      "            new_search = '?' + search_parameters.join('&');\n",
      "          }\n",
      "          var new_url = window.location.origin +\n",
      "            window.location.pathname +\n",
      "            new_search +\n",
      "            window.location.hash;\n",
      "          window.history.replaceState({}, \"\", new_url);\n",
      "          return;\n",
      "        }\n",
      "      }\n",
      "    }\n",
      "    _remove_token_from_url();\n",
      "  </script>\n",
      "</body>\n",
      "\n",
      "</html>\n",
      "UTF-8\n",
      "http://localhost:8888/login?next=%2Fview%2Fcrawlme.html\n",
      "200\n"
     ]
    }
   ],
   "source": [
    "r = requests.get(\"http://%s/view/crawlme.html\" % url_prefix)\n",
    "print(r.text)\n",
    "print(r.encoding)\n",
    "print(r.url)\n",
    "print(r.status_code)"
   ]
  },
  {
   "cell_type": "code",
   "execution_count": 9,
   "id": "e703f40a-a3c6-459a-883e-a56bac3a466b",
   "metadata": {},
   "outputs": [
    {
     "data": {
      "text/plain": [
       "['foot', 'fell', 'fastest']"
      ]
     },
     "execution_count": 9,
     "metadata": {},
     "output_type": "execute_result"
    }
   ],
   "source": [
    "# 正则表达式\n",
    "import re\n",
    "re.findall(r'\\bf[a-z]*', 'which foot or hand fell fastest')"
   ]
  },
  {
   "cell_type": "code",
   "execution_count": 11,
   "id": "309b187a-3c08-4031-a6c4-4da478e41579",
   "metadata": {},
   "outputs": [
    {
     "data": {
      "text/plain": [
       "'cat in the hat'"
      ]
     },
     "execution_count": 11,
     "metadata": {},
     "output_type": "execute_result"
    }
   ],
   "source": [
    "re.sub(r'(\\b[a-z]+) \\1', r'\\1', 'cat in the the hat')"
   ]
  },
  {
   "cell_type": "code",
   "execution_count": 13,
   "id": "7cbc4bfc-b5d2-4c15-90a0-40a63e241d82",
   "metadata": {},
   "outputs": [],
   "source": [
    "html = '''\\\n",
    "<html>\n",
    "    <head>\n",
    "    </head>\n",
    "    <body>\n",
    "        <h1>Title</h1>\n",
    "        <p> This is a paragraph</p>\n",
    "        <table>\n",
    "            <tr>\n",
    "                <td> <a href='a.html'>link a</a> </td>\n",
    "            </tr>\n",
    "        </table>\n",
    "        <a href='b.html'>link b</a>\n",
    "    </body>\n",
    "</html>\n",
    "'''"
   ]
  },
  {
   "cell_type": "code",
   "execution_count": 14,
   "id": "0c4269be-7dbb-4ef1-82a2-c6b720627ddd",
   "metadata": {},
   "outputs": [
    {
     "data": {
      "text/plain": [
       "['a.html', 'b.html']"
      ]
     },
     "execution_count": 14,
     "metadata": {},
     "output_type": "execute_result"
    }
   ],
   "source": [
    "re.findall(\"href='(.*?)'\", html)"
   ]
  },
  {
   "cell_type": "code",
   "execution_count": 15,
   "id": "0eeebfe2-7004-4860-8ba2-13dcf01e5b08",
   "metadata": {},
   "outputs": [
    {
     "data": {
      "text/plain": [
       "'abbb'"
      ]
     },
     "execution_count": 15,
     "metadata": {},
     "output_type": "execute_result"
    }
   ],
   "source": [
    "re.match(r'ab*', 'abbb').group()"
   ]
  },
  {
   "cell_type": "code",
   "execution_count": 16,
   "id": "530ab787-af0e-4018-a85a-e81526d1db0c",
   "metadata": {},
   "outputs": [
    {
     "data": {
      "text/plain": [
       "'a'"
      ]
     },
     "execution_count": 16,
     "metadata": {},
     "output_type": "execute_result"
    }
   ],
   "source": [
    "re.match(r'ab*?', 'abbb').group()"
   ]
  },
  {
   "cell_type": "code",
   "execution_count": 17,
   "id": "04b1ccfd-2eef-47e2-ae87-81152cc2a645",
   "metadata": {},
   "outputs": [
    {
     "data": {
      "text/plain": [
       "'a1234'"
      ]
     },
     "execution_count": 17,
     "metadata": {},
     "output_type": "execute_result"
    }
   ],
   "source": [
    "re.match(r'a\\d{3,4}', 'a1234567').group()"
   ]
  },
  {
   "cell_type": "code",
   "execution_count": 18,
   "id": "73682133-126f-4e57-86d1-bbe6be6b9b3a",
   "metadata": {},
   "outputs": [
    {
     "data": {
      "text/plain": [
       "'abc'"
      ]
     },
     "execution_count": 18,
     "metadata": {},
     "output_type": "execute_result"
    }
   ],
   "source": [
    "re.match(r'(abc)|(def)', 'abc').group()"
   ]
  },
  {
   "cell_type": "code",
   "execution_count": 19,
   "id": "08c3dd6f-6988-4fde-83f6-af588c072081",
   "metadata": {},
   "outputs": [
    {
     "name": "stderr",
     "output_type": "stream",
     "text": [
      "<>:2: SyntaxWarning: invalid escape sequence '\\d'\n",
      "<>:2: SyntaxWarning: invalid escape sequence '\\d'\n",
      "C:\\Users\\heisenlindangao\\AppData\\Local\\Temp\\ipykernel_4780\\2217333719.py:2: SyntaxWarning: invalid escape sequence '\\d'\n",
      "  p = re.compile('\\d+')\n"
     ]
    },
    {
     "data": {
      "text/plain": [
       "['12', '11', '10']"
      ]
     },
     "execution_count": 19,
     "metadata": {},
     "output_type": "execute_result"
    }
   ],
   "source": [
    "# 找出数字\n",
    "p = re.compile('\\d+')\n",
    "txt = '12 drummers drumming, 11 pipers piping, 10 lords a-leaping'\n",
    "p.findall(txt)"
   ]
  },
  {
   "cell_type": "code",
   "execution_count": 20,
   "id": "6a86a6d5-f146-44fe-8cb6-9fa36c2c678b",
   "metadata": {},
   "outputs": [
    {
     "data": {
      "text/plain": [
       "'abcd'"
      ]
     },
     "execution_count": 20,
     "metadata": {},
     "output_type": "execute_result"
    }
   ],
   "source": [
    "p = re.compile('(a(b)c)d')\n",
    "m = p.match('abcd')\n",
    "m.group(0)"
   ]
  },
  {
   "cell_type": "code",
   "execution_count": 21,
   "id": "fe93b601-3816-4230-8b13-bf4cf897c298",
   "metadata": {},
   "outputs": [
    {
     "data": {
      "text/plain": [
       "'abc'"
      ]
     },
     "execution_count": 21,
     "metadata": {},
     "output_type": "execute_result"
    }
   ],
   "source": [
    "m.group(1)"
   ]
  },
  {
   "cell_type": "code",
   "execution_count": 22,
   "id": "a5503849-0e1e-46df-b06a-884f5d8a20fa",
   "metadata": {},
   "outputs": [
    {
     "data": {
      "text/plain": [
       "'b'"
      ]
     },
     "execution_count": 22,
     "metadata": {},
     "output_type": "execute_result"
    }
   ],
   "source": [
    "m.group(2)"
   ]
  },
  {
   "cell_type": "code",
   "execution_count": null,
   "id": "c340eab6-0110-46e1-b9d5-28d622d94c06",
   "metadata": {},
   "outputs": [],
   "source": []
  }
 ],
 "metadata": {
  "kernelspec": {
   "display_name": "Python 3 (ipykernel)",
   "language": "python",
   "name": "python3"
  },
  "language_info": {
   "codemirror_mode": {
    "name": "ipython",
    "version": 3
   },
   "file_extension": ".py",
   "mimetype": "text/x-python",
   "name": "python",
   "nbconvert_exporter": "python",
   "pygments_lexer": "ipython3",
   "version": "3.12.6"
  }
 },
 "nbformat": 4,
 "nbformat_minor": 5
}
