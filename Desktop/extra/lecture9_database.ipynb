{
 "cells": [
  {
   "cell_type": "code",
   "execution_count": 1,
   "id": "ffefad61-ce4b-47a9-b73a-e49fde80f114",
   "metadata": {},
   "outputs": [],
   "source": [
    "import os"
   ]
  },
  {
   "cell_type": "code",
   "execution_count": 2,
   "id": "f7c7dd9c-ae58-4951-85ae-22b9a6e646be",
   "metadata": {},
   "outputs": [],
   "source": [
    "db_file = \"example1.db\"\n",
    "if os.path.exists(db_file):\n",
    "    os.remove(db_file)"
   ]
  },
  {
   "cell_type": "code",
   "execution_count": 3,
   "id": "c5110f4b-d565-4ef4-bb95-1a43e802130c",
   "metadata": {},
   "outputs": [],
   "source": [
    "import sqlite3"
   ]
  },
  {
   "cell_type": "code",
   "execution_count": 4,
   "id": "e8c204e4-8743-477c-aa26-c15297a1b192",
   "metadata": {},
   "outputs": [],
   "source": [
    "con = sqlite3.connect(db_file)"
   ]
  },
  {
   "cell_type": "code",
   "execution_count": 5,
   "id": "3724ed8d-a2c4-4617-8bd4-9169b40d5761",
   "metadata": {},
   "outputs": [],
   "source": [
    "cursor = con.cursor()"
   ]
  },
  {
   "cell_type": "code",
   "execution_count": 6,
   "id": "4e1e72a2-869d-4c03-91d3-727239f8e0b8",
   "metadata": {},
   "outputs": [
    {
     "data": {
      "text/plain": [
       "<sqlite3.Cursor at 0x2ac649dd4c0>"
      ]
     },
     "execution_count": 6,
     "metadata": {},
     "output_type": "execute_result"
    }
   ],
   "source": [
    "cursor.execute('''CREATE TABLE stocks\n",
    "                (data text, trans text, symbol text, qty real, price real)''')"
   ]
  },
  {
   "cell_type": "code",
   "execution_count": 7,
   "id": "fe43d843-9498-4df2-b0b9-fb88a50f215a",
   "metadata": {},
   "outputs": [
    {
     "data": {
      "text/plain": [
       "<sqlite3.Cursor at 0x2ac649dd4c0>"
      ]
     },
     "execution_count": 7,
     "metadata": {},
     "output_type": "execute_result"
    }
   ],
   "source": [
    "cursor.execute(\"\"\"INSERT INTO stocks VALUES\n",
    "                ('2006-01-05', 'BUY', 'RHAT', 100, 35.14)\"\"\")"
   ]
  },
  {
   "cell_type": "code",
   "execution_count": 8,
   "id": "5037f14e-a61c-45e6-af37-11f1b3d985b6",
   "metadata": {},
   "outputs": [
    {
     "data": {
      "text/plain": [
       "<sqlite3.Cursor at 0x2ac649dd4c0>"
      ]
     },
     "execution_count": 8,
     "metadata": {},
     "output_type": "execute_result"
    }
   ],
   "source": [
    "cursor.execute(\"\"\"INSERT INTO stocks VALUES\n",
    "                ('2006-02-05', 'BUY', 'FED', 200, 35.24)\"\"\")"
   ]
  },
  {
   "cell_type": "code",
   "execution_count": 9,
   "id": "2f77a4be-a195-4fbd-8e03-43957874d032",
   "metadata": {},
   "outputs": [
    {
     "name": "stdout",
     "output_type": "stream",
     "text": [
      "('2006-01-05', 'BUY', 'RHAT', 100.0, 35.14)\n",
      "('2006-02-05', 'BUY', 'FED', 200.0, 35.24)\n"
     ]
    }
   ],
   "source": [
    "for item in cursor.execute(\"select * from stocks\"):\n",
    "    print(item)"
   ]
  },
  {
   "cell_type": "code",
   "execution_count": 10,
   "id": "fda82237-59fc-4563-91fb-0d8ecdfb7d72",
   "metadata": {},
   "outputs": [
    {
     "name": "stdout",
     "output_type": "stream",
     "text": [
      "('2006-01-05', 'BUY', 'RHAT', 100.0, 35.14)\n"
     ]
    }
   ],
   "source": [
    "t = ('RHAT',)\n",
    "# 使用内置的替换，减少安全风险\n",
    "cursor.execute('SELECT * FROM stocks WHERE symbol = ?', t)\n",
    "print(cursor.fetchone())"
   ]
  },
  {
   "cell_type": "code",
   "execution_count": 13,
   "id": "e751059b-38f7-4058-972a-1292fb62247e",
   "metadata": {},
   "outputs": [
    {
     "data": {
      "text/plain": [
       "<sqlite3.Cursor at 0x2ac649dd4c0>"
      ]
     },
     "execution_count": 13,
     "metadata": {},
     "output_type": "execute_result"
    }
   ],
   "source": [
    "# 使用executemant执行多条操作\n",
    "# Larger example that inserts many records at a time\n",
    "purchases = [('2006-03-28', 'BUY', 'IBM', 1000, 45.00),\n",
    "             ('2006-04-05', 'BUY', 'MSFT', 1000, 72.00),\n",
    "             ('2006-04-06', 'SELL', 'IBM', 500, 53.00),\n",
    "            ]\n",
    "cursor.executemany('INSERT INTO stocks VALUES (?,?,?,?,?)', purchases)"
   ]
  },
  {
   "cell_type": "code",
   "execution_count": 14,
   "id": "4655ca74-d323-4675-9291-47f0d3f1a246",
   "metadata": {},
   "outputs": [
    {
     "data": {
      "text/plain": [
       "<sqlite3.Cursor at 0x2ac649dd4c0>"
      ]
     },
     "execution_count": 14,
     "metadata": {},
     "output_type": "execute_result"
    }
   ],
   "source": [
    "# 执行脚本\n",
    "sql = \"\"\"create table news (id integer, score integer, title text, href text);\n",
    "insert into news values (1, 8, \"hello world\", \"http://oscar-lab.org\");\n",
    "insert into news values (2, 2, \"hello charlie\", \"http://www.dlut.edu.cn\");\"\"\"\n",
    "cursor.executescript(sql)"
   ]
  },
  {
   "cell_type": "code",
   "execution_count": 15,
   "id": "3bddeeaf-3135-4534-b1c7-9b18574a473f",
   "metadata": {},
   "outputs": [
    {
     "name": "stdout",
     "output_type": "stream",
     "text": [
      "[(1, 8, 'hello world', 'http://oscar-lab.org'), (2, 2, 'hello charlie', 'http://www.dlut.edu.cn')]\n"
     ]
    }
   ],
   "source": [
    "print(list(cursor.execute(\"select * from news\")))"
   ]
  },
  {
   "cell_type": "code",
   "execution_count": 16,
   "id": "7a0c462f-1903-4111-94eb-1ee83927a3fc",
   "metadata": {},
   "outputs": [
    {
     "data": {
      "text/plain": [
       "<sqlite3.Cursor at 0x2ac649df8c0>"
      ]
     },
     "execution_count": 16,
     "metadata": {},
     "output_type": "execute_result"
    }
   ],
   "source": [
    "con.row_factory = sqlite3.Row\n",
    "c = con.cursor()\n",
    "c.execute('select * from stocks')"
   ]
  },
  {
   "cell_type": "code",
   "execution_count": 17,
   "id": "f39d9f24-f049-4430-af4c-c7d0aa47576d",
   "metadata": {},
   "outputs": [
    {
     "data": {
      "text/plain": [
       "sqlite3.Row"
      ]
     },
     "execution_count": 17,
     "metadata": {},
     "output_type": "execute_result"
    }
   ],
   "source": [
    "r = c.fetchone()\n",
    "type(r)"
   ]
  },
  {
   "cell_type": "code",
   "execution_count": 18,
   "id": "bfe69a98-b2c0-4416-922a-e9f6598037ab",
   "metadata": {},
   "outputs": [
    {
     "data": {
      "text/plain": [
       "['data', 'trans', 'symbol', 'qty', 'price']"
      ]
     },
     "execution_count": 18,
     "metadata": {},
     "output_type": "execute_result"
    }
   ],
   "source": [
    "r.keys()"
   ]
  },
  {
   "cell_type": "code",
   "execution_count": 20,
   "id": "bbd3c843-e5cd-418d-8343-c12278cfbded",
   "metadata": {},
   "outputs": [
    {
     "data": {
      "text/plain": [
       "'2006-01-05'"
      ]
     },
     "execution_count": 20,
     "metadata": {},
     "output_type": "execute_result"
    }
   ],
   "source": [
    "r['data']"
   ]
  },
  {
   "cell_type": "code",
   "execution_count": 21,
   "id": "18a5c3e6-2d55-46bf-a7ec-f31ec8765471",
   "metadata": {},
   "outputs": [
    {
     "name": "stdout",
     "output_type": "stream",
     "text": [
      "2006-01-05\n",
      "BUY\n",
      "RHAT\n",
      "100.0\n",
      "35.14\n"
     ]
    }
   ],
   "source": [
    "for field in r:\n",
    "    print(field)"
   ]
  },
  {
   "cell_type": "code",
   "execution_count": 22,
   "id": "0596f6ef-05fe-48e2-8e4e-69fbf95c3ad8",
   "metadata": {},
   "outputs": [],
   "source": [
    "# 关闭数据库\n",
    "con.close()"
   ]
  },
  {
   "cell_type": "code",
   "execution_count": null,
   "id": "6a91281b-591e-431b-91d9-10853817feeb",
   "metadata": {},
   "outputs": [],
   "source": []
  }
 ],
 "metadata": {
  "kernelspec": {
   "display_name": "Python 3 (ipykernel)",
   "language": "python",
   "name": "python3"
  },
  "language_info": {
   "codemirror_mode": {
    "name": "ipython",
    "version": 3
   },
   "file_extension": ".py",
   "mimetype": "text/x-python",
   "name": "python",
   "nbconvert_exporter": "python",
   "pygments_lexer": "ipython3",
   "version": "3.12.6"
  }
 },
 "nbformat": 4,
 "nbformat_minor": 5
}
