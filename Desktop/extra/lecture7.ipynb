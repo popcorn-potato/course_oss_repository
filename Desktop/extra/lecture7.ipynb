{
 "cells": [
  {
   "cell_type": "code",
   "execution_count": 1,
   "id": "6563c286-c634-47e3-84a1-11adfa6bfd02",
   "metadata": {},
   "outputs": [],
   "source": [
    "import requests\n",
    "import bs4"
   ]
  },
  {
   "cell_type": "code",
   "execution_count": 2,
   "id": "07d30223-1491-4531-96b3-f7e3a3744f1f",
   "metadata": {},
   "outputs": [],
   "source": [
    "url = \"http://oscar-lab.org/people/~zren/\""
   ]
  },
  {
   "cell_type": "code",
   "execution_count": 3,
   "id": "c7c33965-0c93-4ee8-bfc3-a3caa4960ca5",
   "metadata": {},
   "outputs": [],
   "source": [
    "response = requests.get(url)"
   ]
  },
  {
   "cell_type": "code",
   "execution_count": 4,
   "id": "2b3826b0-dc90-444b-af20-799076f0671c",
   "metadata": {},
   "outputs": [
    {
     "data": {
      "text/plain": [
       "200"
      ]
     },
     "execution_count": 4,
     "metadata": {},
     "output_type": "execute_result"
    }
   ],
   "source": [
    "response.status_code"
   ]
  },
  {
   "cell_type": "code",
   "execution_count": 5,
   "id": "c99c1c80-99a5-40dd-9639-f2acc4bf2085",
   "metadata": {},
   "outputs": [
    {
     "data": {
      "text/plain": [
       "'ISO-8859-1'"
      ]
     },
     "execution_count": 5,
     "metadata": {},
     "output_type": "execute_result"
    }
   ],
   "source": [
    "response.encoding"
   ]
  },
  {
   "cell_type": "code",
   "execution_count": 6,
   "id": "7d46fd61-e05d-4407-b6b6-ac5d8c937f76",
   "metadata": {},
   "outputs": [
    {
     "data": {
      "text/plain": [
       "'utf-8'"
      ]
     },
     "execution_count": 6,
     "metadata": {},
     "output_type": "execute_result"
    }
   ],
   "source": [
    "response.apparent_encoding"
   ]
  },
  {
   "cell_type": "code",
   "execution_count": 7,
   "id": "45b6dcd5-b253-4eb5-959e-c4008227d57d",
   "metadata": {},
   "outputs": [],
   "source": [
    "response.encoding = response.apparent_encoding"
   ]
  },
  {
   "cell_type": "code",
   "execution_count": 8,
   "id": "9c50105a-4d2f-454b-80b2-369ad992c446",
   "metadata": {},
   "outputs": [
    {
     "name": "stdout",
     "output_type": "stream",
     "text": [
      "<!DOCTYPE HTML PUBLIC \"-//W3C//DTD HTML 4.01 Transitional//EN\" \"http://www.w3.org/TR/html4/loose.dtd\">\n",
      "<html>\n",
      "    <head>\n",
      "        <title>Zhilei Ren</title>\n",
      "        <meta http-equiv=\"Content-Type\" content=\"text/html; charset=UTF-8\">\n",
      "    </head>\n",
      "    <body>\n",
      "        <p><img src=\"image/ren.png\" alt=\"Zhilei Ren\" title=\"\"></p>\n",
      "\n",
      "        <p>Zhilei Ren (任志磊), professor at <a href=\"http://oscar-lab.org/\">OSCAR</a> lab, <a href=\"http://www.dlut.edu.cn/en/\">Dalian University of Technology</a>.</p>\n",
      "\n",
      "        <p><a href=\"index_chn.htm\">[中文]</a></p>\n",
      "\n",
      "        <hr>\n",
      "\n",
      "        <h1>Research Interests</h1>\n",
      "\n",
      "        <p>Evolutionary Computation, Automatic Algorithm Configuration, Data Mining, and Data Analysis in Software Engineering</p>\n",
      "\n",
      "        <h1>Brief Biography</h1>\n",
      "\n",
      "        <ul>\n",
      "            <li>Sep. 2009 - Mar. 2013 Ph.D candidate Dalian University of Technology, supervised by Prof. <a href=\"http://faculty.dlut.edu.cn/jianghe/en/index.htm\">He Jiang</a> </li>\n",
      "            <li>Sep. 2007 - Jun. 2009 MS candidate Dalian University of Technology, supervised by Prof. <a href=\"http://faculty.dlut.edu.cn/jianghe/en/index.htm\">He Jiang</a> </li>\n",
      "            <li>Sep. 2003 - Jul. 2007 BS (software engineering) Dalian University of Technology</li>\n",
      "        </ul>\n",
      "\n",
      "        <h1>Publications</h1>\n",
      "\n",
      "        <h3>Journal Papers</h3>\n",
      "\n",
      "        <ul>\n",
      "            <li><strong>Zhilei Ren</strong>, He Jiang, Jifeng Xuan, Shuwei Zhang, Zhongxuan Luo. Feature based problem hardness understanding for requirements engineering. Science China Information Sciences, 60(3), 032105, 2017. </li>\n",
      "            <li><strong>Zhilei Ren</strong>, He Jiang, Shuwei Zhang, Jingxuan Zhang, Zhongxuan Luo. Boosting Local Search with Lagrangian Relaxation. Journal of Heuristics. Online. </li>\n",
      "            <li><strong>Zhilei Ren</strong>, He Jiang, Jifeng Xuan, Yan Hu, Zhongxuan Luo. New Insights Into Diversification of Hyper-Heuristics. IEEE Transactions on Cybernetics. Online. </li>\n",
      "            <li><strong>Zhilei Ren</strong>, He Jiang, Jifeng Xuan, Zhongxuan Luo. Hyper-Heuristics with Low Level Parameter Adaptation. Evolutionary Computation, vol. 20, no. 2, pp. 189-227.</li>\n",
      "            <li><strong>Zhilei Ren</strong>, He Jiang, Jifeng Xuan, Zhongxuan Luo. An Accelerated Limit Crossing Based Multilevel Algorithm for the p-Median Problem. IEEE Transactions on Systems, Man, and Cybernetics, Part B: Cybernetics, vol. 42, no. 4, pp. 1187-1202.</li>\n",
      "            <li>He Jiang, <strong>Zhilei Ren</strong>, Jifeng Xuan, Xindong Wu. Extracting Elite Pairwise Constraints for Clustering. Neurocomputing. Online.</li>\n",
      "            <li>Jifeng Xuan, He Jiang, <strong>Zhilei Ren</strong>, Zhongxuan Luo. Solving the Large Scale Next Release Problem with a Backbone Based Multilevel Algorithm. IEEE Transactions on Software Engineering, vol. 38, no. 5, Sept.-Oct. 2012, pp. 1195-1212.</li>\n",
      "            <li>Shuyan Zhang, <strong>Zhilei Ren</strong>, Cuixia Li, Jifeng Xuan. A perturbation adaptive pursuit strategy based hyper-heuristic for multi-objective optimization problems. Swarm and Evolutionary Computation, vol. 54, 2020.</li>\n",
      "        </ul>\n",
      "\n",
      "        <h3>Conference Papers</h3>\n",
      "\n",
      "        <ul>\n",
      "            <li><strong>Zhilei Ren</strong>, Shiwei Sun, Jifeng Xuan, Xiaochen Li, Zhide Zhou, and He Jiang. Automated Patching for Unreproducible Builds. In 44th International Conference on Software Engineering (ICSE ’22), May 21–29, 2022, Pittsburgh, PA, USA. Accepted. </li>\n",
      "            <li><strong>Zhilei Ren</strong>, Shaozheng Dong, Xiaochen Li, Zongzheng Chi, and He Jiang. Many-objective Test Database Generation for SQL. Proceedings of the 16th International Conference on Parallel Problem Solving from Nature (PPSN 2020). Accepted. </li>\n",
      "            <li><strong>Zhilei Ren</strong>, Changlin Liu, Xusheng Xiao, He Jiang, and Tao Xie. Root Cause Localization for Unreproducible Builds via Causality Analysis over System Call Tracing. The 34th IEEE/ACM International Conference on Automated Software Engineering (ASE 2019). Accepted.</li>\n",
      "            <li><strong>Zhilei Ren</strong>, He Jiang, Jifeng Xuan, and Zijiang Yang. Automated Localization for Unreproducible Builds. The 40th IEEE International Conference on Software Engineering (ICSE 2018), Gothenburg, Sweden. May 27 - June 3, 2018, pp. 71-81.</li>\n",
      "            <li><strong>Zhilei Ren</strong>, He Jiang, Jifeng Xuan, Ke Tang, Yan Hu. Analyzing Inter-objective Relationships: A Case Study of Software Upgradability. Proceedings of the 14th International Conference on Parallel Problem Solving from Nature (PPSN 2016), Edinburgh, Scotland, UK. September 17-21, 2016, pp. 442-452.</li>\n",
      "            <li> <strong>Zhilei Ren</strong>, He Jiang, Jifeng Xuan, Shuwei Zhang, Zhongxuan Luo. Learning from Evolved Next Release Problem Instances. Proceedings of the 2014 conference companion on Genetic and evolutionary computation companion, Vancouver, Canada. July 11-16, 2014, pp. 189-190.</li>\n",
      "            <li>Jifeng Xuan, He Jiang, <strong>Zhilei Ren</strong>, Weiqin Zou. Developer Prioritization in Bug Repositories. Proceedings of 34th International Conference on Software Engineering (ICSE 2012), Zurich, Switzerland. June 2-9, 2012, pp. 25-35.</li>\n",
      "            <li><strong>Zhilei Ren</strong>, He Jiang, Jifeng Xuan, Zhongxuan Luo. Ant Based Hyper Heuristics with Space Reduction: A Case Study of the p-Median Problem. Proceedings of 11th International Conference on Parallel Problem Solving From Nature (PPSN 2010), Krakow, Poland. September 11-15, 2010, pp. 546-555.</li>\n",
      "            <li>Jifeng Xuan, He Jiang, <strong>Zhilei Ren</strong>, Jun Yan, Zhongxuan Luo. Automatic Bug Triage using Semi-Supervised Text Classification. Proceedings of 22nd International Conference on Software Engineering and Knowledge Engineering (SEKE 2010), Redwood City, California, USA. July 1-3, 2010, pp. 209-214.</li>\n",
      "            <li>He Jiang, Jifeng Xuan, <strong>Zhilei Ren</strong>. Approximate Backbone Based Multilevel Algorithm for Next Release Problem. Proceedings of 12th Annual Conference on Genetic and Evolutionary Computation. (GECCO 2010), Portland, Oregon, USA. ACM Press, July 7-11, 2010, pp. 1333-1340.</li>\n",
      "            <li>He Jiang, <strong>Zhilei Ren</strong>, Yan Hu. A sampling based fant for the 3-dimensional assignment problem. Proceedings of 2008 IEEE Congress on Evolutionary Computation (CEC 2008), Hongkong, China. IEEE Computer Society, 2008, pp. 4118-4124.</li>\n",
      "        </ul>\n",
      "\n",
      "        <h1>Activities</h1>\n",
      "\n",
      "        <ul>\n",
      "            <li>Publication chair, IEA/AIE 2012 (The 25th International Conference on Industrial, Engineering &amp; Other Applications of Applied Intelligent Systems)</li>\n",
      "            <li>Reviewer, IEA/AIE 2012 (The 25th International Conference on Industrial, Engineering &amp; Other Applications of Applied Intelligent Systems)</li>\n",
      "            <li>Reviewer, ICM 2011 (The International Conference of Information Technology, Computer Engineering and Management Sciences)</li>\n",
      "            <li>Reviewer, Applied Intelligence</li>\n",
      "            <li>Co-reviewer, KBS (Knowledge-Based Systems)</li>\n",
      "            <li>Co-reviewer, IJACT (International Journal of Advancements in Computing Technology)</li>\n",
      "            <li>Co-reviewer, ISI 2012 (IEEE International Conference on Intelligence and Security Informatics)</li>\n",
      "            <li>Co-reviewer, CSE 2011 (The 14th IEEE International Conference on Computational Science and Engineering)</li>\n",
      "            <li>Co-reviewer, Journal of Software</li>\n",
      "        </ul>\n",
      "\n",
      "        <h1>Awards</h1>\n",
      "\n",
      "        <ul>\n",
      "            <li>2018: ACM SIGSOFT Distinguished Paper Award</li>\n",
      "            <li>2008: Outstanding Master's Candidate in the Software School of Dalian University of Technology</li>\n",
      "            <li>2008: First-class Scholarship at Dalian University of Technology </li>\n",
      "            <li>2007: Outstanding Graduate of Dalian City </li>\n",
      "            <li>2006: Scholarship Sponsored by Dalian ShiDe Group</li>\n",
      "            <li>2006: Outstanding Student of Liaoning Province</li>\n",
      "            <li>2006: First-class Scholarship at Dalian University of Technology</li>\n",
      "            <li>2005: Citi Bank's Financial Information Technology Scholarship</li>\n",
      "            <li>2005: First-class Scholarship at Dalian University of Technology</li>\n",
      "            <li>2004: Third-class NOK Scholarship</li>\n",
      "            <li>2004: First-class Scholarship at Dalian University of Technology</li>\n",
      "        </ul>\n",
      "\n",
      "        <h1>Teaching Assistant</h1>\n",
      "\n",
      "        <ul>\n",
      "            <li>Compiler Principles, Spring 2009</li>\n",
      "            <li>Compiler Principles, Autumn 2008</li>\n",
      "            <li>Compiler Principles, Autumn 2007</li>\n",
      "        </ul>\n",
      "\n",
      "        <h1>Teaching Materials</h1>\n",
      "        <ul>\n",
      "            <li><a href=\"./uml\">Unified Modeling Language</a></li>\n",
      "            <li><a href=\"https://bitbucket.org/rezilla/open-lecture-notes\">Open Source Course</a></li>\n",
      "            <li><a href=\"./files/scientific-writing.pdf\">Scientific Writing</a> </li>\n",
      "            <li><a href=\"./files/intro.pptx\">Introduction Slides for Freshmen (in Chinese)</a></li>\n",
      "            <li><a href=\"./ddb\">Distributed Database</a></li>\n",
      "        </ul>\n",
      "\n",
      "        <hr>\n",
      "\n",
      "        <p><img src=\"image/vim_powered_blueblack.gif\" alt=\"vim powered\" title=\"\"> Last modified on 2020-05-28</p>\n",
      "    </body>\n",
      "</html>\n",
      "\n"
     ]
    }
   ],
   "source": [
    "print(response.text)"
   ]
  },
  {
   "cell_type": "code",
   "execution_count": 9,
   "id": "5171e66b-1937-477f-be91-793bd830ad4a",
   "metadata": {},
   "outputs": [],
   "source": [
    "doc = bs4.BeautifulSoup(response.text)"
   ]
  },
  {
   "cell_type": "code",
   "execution_count": 10,
   "id": "07b04603-501d-4333-a558-f2eda0b1d234",
   "metadata": {},
   "outputs": [
    {
     "name": "stdout",
     "output_type": "stream",
     "text": [
      "<!DOCTYPE HTML PUBLIC \"-//W3C//DTD HTML 4.01 Transitional//EN\" \"http://www.w3.org/TR/html4/loose.dtd\">\n",
      "<html>\n",
      " <head>\n",
      "  <title>\n",
      "   Zhilei Ren\n",
      "  </title>\n",
      "  <meta content=\"text/html; charset=utf-8\" http-equiv=\"Content-Type\"/>\n",
      " </head>\n",
      " <body>\n",
      "  <p>\n",
      "   <img alt=\"Zhilei Ren\" src=\"image/ren.png\" title=\"\"/>\n",
      "  </p>\n",
      "  <p>\n",
      "   Zhilei Ren (任志磊), professor at\n",
      "   <a href=\"http://oscar-lab.org/\">\n",
      "    OSCAR\n",
      "   </a>\n",
      "   lab,\n",
      "   <a href=\"http://www.dlut.edu.cn/en/\">\n",
      "    Dalian University of Technology\n",
      "   </a>\n",
      "   .\n",
      "  </p>\n",
      "  <p>\n",
      "   <a href=\"index_chn.htm\">\n",
      "    [中文]\n",
      "   </a>\n",
      "  </p>\n",
      "  <hr/>\n",
      "  <h1>\n",
      "   Research Interests\n",
      "  </h1>\n",
      "  <p>\n",
      "   Evolutionary Computation, Automatic Algorithm Configuration, Data Mining, and Data Analysis in Software Engineering\n",
      "  </p>\n",
      "  <h1>\n",
      "   Brief Biography\n",
      "  </h1>\n",
      "  <ul>\n",
      "   <li>\n",
      "    Sep. 2009 - Mar. 2013 Ph.D candidate Dalian University of Technology, supervised by Prof.\n",
      "    <a href=\"http://faculty.dlut.edu.cn/jianghe/en/index.htm\">\n",
      "     He Jiang\n",
      "    </a>\n",
      "   </li>\n",
      "   <li>\n",
      "    Sep. 2007 - Jun. 2009 MS candidate Dalian University of Technology, supervised by Prof.\n",
      "    <a href=\"http://faculty.dlut.edu.cn/jianghe/en/index.htm\">\n",
      "     He Jiang\n",
      "    </a>\n",
      "   </li>\n",
      "   <li>\n",
      "    Sep. 2003 - Jul. 2007 BS (software engineering) Dalian University of Technology\n",
      "   </li>\n",
      "  </ul>\n",
      "  <h1>\n",
      "   Publications\n",
      "  </h1>\n",
      "  <h3>\n",
      "   Journal Papers\n",
      "  </h3>\n",
      "  <ul>\n",
      "   <li>\n",
      "    <strong>\n",
      "     Zhilei Ren\n",
      "    </strong>\n",
      "    , He Jiang, Jifeng Xuan, Shuwei Zhang, Zhongxuan Luo. Feature based problem hardness understanding for requirements engineering. Science China Information Sciences, 60(3), 032105, 2017.\n",
      "   </li>\n",
      "   <li>\n",
      "    <strong>\n",
      "     Zhilei Ren\n",
      "    </strong>\n",
      "    , He Jiang, Shuwei Zhang, Jingxuan Zhang, Zhongxuan Luo. Boosting Local Search with Lagrangian Relaxation. Journal of Heuristics. Online.\n",
      "   </li>\n",
      "   <li>\n",
      "    <strong>\n",
      "     Zhilei Ren\n",
      "    </strong>\n",
      "    , He Jiang, Jifeng Xuan, Yan Hu, Zhongxuan Luo. New Insights Into Diversification of Hyper-Heuristics. IEEE Transactions on Cybernetics. Online.\n",
      "   </li>\n",
      "   <li>\n",
      "    <strong>\n",
      "     Zhilei Ren\n",
      "    </strong>\n",
      "    , He Jiang, Jifeng Xuan, Zhongxuan Luo. Hyper-Heuristics with Low Level Parameter Adaptation. Evolutionary Computation, vol. 20, no. 2, pp. 189-227.\n",
      "   </li>\n",
      "   <li>\n",
      "    <strong>\n",
      "     Zhilei Ren\n",
      "    </strong>\n",
      "    , He Jiang, Jifeng Xuan, Zhongxuan Luo. An Accelerated Limit Crossing Based Multilevel Algorithm for the p-Median Problem. IEEE Transactions on Systems, Man, and Cybernetics, Part B: Cybernetics, vol. 42, no. 4, pp. 1187-1202.\n",
      "   </li>\n",
      "   <li>\n",
      "    He Jiang,\n",
      "    <strong>\n",
      "     Zhilei Ren\n",
      "    </strong>\n",
      "    , Jifeng Xuan, Xindong Wu. Extracting Elite Pairwise Constraints for Clustering. Neurocomputing. Online.\n",
      "   </li>\n",
      "   <li>\n",
      "    Jifeng Xuan, He Jiang,\n",
      "    <strong>\n",
      "     Zhilei Ren\n",
      "    </strong>\n",
      "    , Zhongxuan Luo. Solving the Large Scale Next Release Problem with a Backbone Based Multilevel Algorithm. IEEE Transactions on Software Engineering, vol. 38, no. 5, Sept.-Oct. 2012, pp. 1195-1212.\n",
      "   </li>\n",
      "   <li>\n",
      "    Shuyan Zhang,\n",
      "    <strong>\n",
      "     Zhilei Ren\n",
      "    </strong>\n",
      "    , Cuixia Li, Jifeng Xuan. A perturbation adaptive pursuit strategy based hyper-heuristic for multi-objective optimization problems. Swarm and Evolutionary Computation, vol. 54, 2020.\n",
      "   </li>\n",
      "  </ul>\n",
      "  <h3>\n",
      "   Conference Papers\n",
      "  </h3>\n",
      "  <ul>\n",
      "   <li>\n",
      "    <strong>\n",
      "     Zhilei Ren\n",
      "    </strong>\n",
      "    , Shiwei Sun, Jifeng Xuan, Xiaochen Li, Zhide Zhou, and He Jiang. Automated Patching for Unreproducible Builds. In 44th International Conference on Software Engineering (ICSE ’22), May 21–29, 2022, Pittsburgh, PA, USA. Accepted.\n",
      "   </li>\n",
      "   <li>\n",
      "    <strong>\n",
      "     Zhilei Ren\n",
      "    </strong>\n",
      "    , Shaozheng Dong, Xiaochen Li, Zongzheng Chi, and He Jiang. Many-objective Test Database Generation for SQL. Proceedings of the 16th International Conference on Parallel Problem Solving from Nature (PPSN 2020). Accepted.\n",
      "   </li>\n",
      "   <li>\n",
      "    <strong>\n",
      "     Zhilei Ren\n",
      "    </strong>\n",
      "    , Changlin Liu, Xusheng Xiao, He Jiang, and Tao Xie. Root Cause Localization for Unreproducible Builds via Causality Analysis over System Call Tracing. The 34th IEEE/ACM International Conference on Automated Software Engineering (ASE 2019). Accepted.\n",
      "   </li>\n",
      "   <li>\n",
      "    <strong>\n",
      "     Zhilei Ren\n",
      "    </strong>\n",
      "    , He Jiang, Jifeng Xuan, and Zijiang Yang. Automated Localization for Unreproducible Builds. The 40th IEEE International Conference on Software Engineering (ICSE 2018), Gothenburg, Sweden. May 27 - June 3, 2018, pp. 71-81.\n",
      "   </li>\n",
      "   <li>\n",
      "    <strong>\n",
      "     Zhilei Ren\n",
      "    </strong>\n",
      "    , He Jiang, Jifeng Xuan, Ke Tang, Yan Hu. Analyzing Inter-objective Relationships: A Case Study of Software Upgradability. Proceedings of the 14th International Conference on Parallel Problem Solving from Nature (PPSN 2016), Edinburgh, Scotland, UK. September 17-21, 2016, pp. 442-452.\n",
      "   </li>\n",
      "   <li>\n",
      "    <strong>\n",
      "     Zhilei Ren\n",
      "    </strong>\n",
      "    , He Jiang, Jifeng Xuan, Shuwei Zhang, Zhongxuan Luo. Learning from Evolved Next Release Problem Instances. Proceedings of the 2014 conference companion on Genetic and evolutionary computation companion, Vancouver, Canada. July 11-16, 2014, pp. 189-190.\n",
      "   </li>\n",
      "   <li>\n",
      "    Jifeng Xuan, He Jiang,\n",
      "    <strong>\n",
      "     Zhilei Ren\n",
      "    </strong>\n",
      "    , Weiqin Zou. Developer Prioritization in Bug Repositories. Proceedings of 34th International Conference on Software Engineering (ICSE 2012), Zurich, Switzerland. June 2-9, 2012, pp. 25-35.\n",
      "   </li>\n",
      "   <li>\n",
      "    <strong>\n",
      "     Zhilei Ren\n",
      "    </strong>\n",
      "    , He Jiang, Jifeng Xuan, Zhongxuan Luo. Ant Based Hyper Heuristics with Space Reduction: A Case Study of the p-Median Problem. Proceedings of 11th International Conference on Parallel Problem Solving From Nature (PPSN 2010), Krakow, Poland. September 11-15, 2010, pp. 546-555.\n",
      "   </li>\n",
      "   <li>\n",
      "    Jifeng Xuan, He Jiang,\n",
      "    <strong>\n",
      "     Zhilei Ren\n",
      "    </strong>\n",
      "    , Jun Yan, Zhongxuan Luo. Automatic Bug Triage using Semi-Supervised Text Classification. Proceedings of 22nd International Conference on Software Engineering and Knowledge Engineering (SEKE 2010), Redwood City, California, USA. July 1-3, 2010, pp. 209-214.\n",
      "   </li>\n",
      "   <li>\n",
      "    He Jiang, Jifeng Xuan,\n",
      "    <strong>\n",
      "     Zhilei Ren\n",
      "    </strong>\n",
      "    . Approximate Backbone Based Multilevel Algorithm for Next Release Problem. Proceedings of 12th Annual Conference on Genetic and Evolutionary Computation. (GECCO 2010), Portland, Oregon, USA. ACM Press, July 7-11, 2010, pp. 1333-1340.\n",
      "   </li>\n",
      "   <li>\n",
      "    He Jiang,\n",
      "    <strong>\n",
      "     Zhilei Ren\n",
      "    </strong>\n",
      "    , Yan Hu. A sampling based fant for the 3-dimensional assignment problem. Proceedings of 2008 IEEE Congress on Evolutionary Computation (CEC 2008), Hongkong, China. IEEE Computer Society, 2008, pp. 4118-4124.\n",
      "   </li>\n",
      "  </ul>\n",
      "  <h1>\n",
      "   Activities\n",
      "  </h1>\n",
      "  <ul>\n",
      "   <li>\n",
      "    Publication chair, IEA/AIE 2012 (The 25th International Conference on Industrial, Engineering &amp; Other Applications of Applied Intelligent Systems)\n",
      "   </li>\n",
      "   <li>\n",
      "    Reviewer, IEA/AIE 2012 (The 25th International Conference on Industrial, Engineering &amp; Other Applications of Applied Intelligent Systems)\n",
      "   </li>\n",
      "   <li>\n",
      "    Reviewer, ICM 2011 (The International Conference of Information Technology, Computer Engineering and Management Sciences)\n",
      "   </li>\n",
      "   <li>\n",
      "    Reviewer, Applied Intelligence\n",
      "   </li>\n",
      "   <li>\n",
      "    Co-reviewer, KBS (Knowledge-Based Systems)\n",
      "   </li>\n",
      "   <li>\n",
      "    Co-reviewer, IJACT (International Journal of Advancements in Computing Technology)\n",
      "   </li>\n",
      "   <li>\n",
      "    Co-reviewer, ISI 2012 (IEEE International Conference on Intelligence and Security Informatics)\n",
      "   </li>\n",
      "   <li>\n",
      "    Co-reviewer, CSE 2011 (The 14th IEEE International Conference on Computational Science and Engineering)\n",
      "   </li>\n",
      "   <li>\n",
      "    Co-reviewer, Journal of Software\n",
      "   </li>\n",
      "  </ul>\n",
      "  <h1>\n",
      "   Awards\n",
      "  </h1>\n",
      "  <ul>\n",
      "   <li>\n",
      "    2018: ACM SIGSOFT Distinguished Paper Award\n",
      "   </li>\n",
      "   <li>\n",
      "    2008: Outstanding Master's Candidate in the Software School of Dalian University of Technology\n",
      "   </li>\n",
      "   <li>\n",
      "    2008: First-class Scholarship at Dalian University of Technology\n",
      "   </li>\n",
      "   <li>\n",
      "    2007: Outstanding Graduate of Dalian City\n",
      "   </li>\n",
      "   <li>\n",
      "    2006: Scholarship Sponsored by Dalian ShiDe Group\n",
      "   </li>\n",
      "   <li>\n",
      "    2006: Outstanding Student of Liaoning Province\n",
      "   </li>\n",
      "   <li>\n",
      "    2006: First-class Scholarship at Dalian University of Technology\n",
      "   </li>\n",
      "   <li>\n",
      "    2005: Citi Bank's Financial Information Technology Scholarship\n",
      "   </li>\n",
      "   <li>\n",
      "    2005: First-class Scholarship at Dalian University of Technology\n",
      "   </li>\n",
      "   <li>\n",
      "    2004: Third-class NOK Scholarship\n",
      "   </li>\n",
      "   <li>\n",
      "    2004: First-class Scholarship at Dalian University of Technology\n",
      "   </li>\n",
      "  </ul>\n",
      "  <h1>\n",
      "   Teaching Assistant\n",
      "  </h1>\n",
      "  <ul>\n",
      "   <li>\n",
      "    Compiler Principles, Spring 2009\n",
      "   </li>\n",
      "   <li>\n",
      "    Compiler Principles, Autumn 2008\n",
      "   </li>\n",
      "   <li>\n",
      "    Compiler Principles, Autumn 2007\n",
      "   </li>\n",
      "  </ul>\n",
      "  <h1>\n",
      "   Teaching Materials\n",
      "  </h1>\n",
      "  <ul>\n",
      "   <li>\n",
      "    <a href=\"./uml\">\n",
      "     Unified Modeling Language\n",
      "    </a>\n",
      "   </li>\n",
      "   <li>\n",
      "    <a href=\"https://bitbucket.org/rezilla/open-lecture-notes\">\n",
      "     Open Source Course\n",
      "    </a>\n",
      "   </li>\n",
      "   <li>\n",
      "    <a href=\"./files/scientific-writing.pdf\">\n",
      "     Scientific Writing\n",
      "    </a>\n",
      "   </li>\n",
      "   <li>\n",
      "    <a href=\"./files/intro.pptx\">\n",
      "     Introduction Slides for Freshmen (in Chinese)\n",
      "    </a>\n",
      "   </li>\n",
      "   <li>\n",
      "    <a href=\"./ddb\">\n",
      "     Distributed Database\n",
      "    </a>\n",
      "   </li>\n",
      "  </ul>\n",
      "  <hr/>\n",
      "  <p>\n",
      "   <img alt=\"vim powered\" src=\"image/vim_powered_blueblack.gif\" title=\"\"/>\n",
      "   Last modified on 2020-05-28\n",
      "  </p>\n",
      " </body>\n",
      "</html>\n",
      "\n"
     ]
    }
   ],
   "source": [
    "print(doc.prettify())"
   ]
  },
  {
   "cell_type": "code",
   "execution_count": 11,
   "id": "fe89dbaa-ee10-45dd-876b-bdf474768bfa",
   "metadata": {},
   "outputs": [
    {
     "data": {
      "text/plain": [
       "<a href=\"http://oscar-lab.org/\">OSCAR</a>"
      ]
     },
     "execution_count": 11,
     "metadata": {},
     "output_type": "execute_result"
    }
   ],
   "source": [
    "# 文档中的首个a节点\n",
    "doc.a"
   ]
  },
  {
   "cell_type": "code",
   "execution_count": 12,
   "id": "cab81401-dd88-483a-8789-8ecc429d5f23",
   "metadata": {},
   "outputs": [
    {
     "data": {
      "text/plain": [
       "<title>Zhilei Ren</title>"
      ]
     },
     "execution_count": 12,
     "metadata": {},
     "output_type": "execute_result"
    }
   ],
   "source": [
    "# 文档首个（唯一）标题\n",
    "doc.title"
   ]
  },
  {
   "cell_type": "code",
   "execution_count": 13,
   "id": "d22a2563-2dd5-42e6-b0b8-bfb3345f9c19",
   "metadata": {},
   "outputs": [
    {
     "data": {
      "text/plain": [
       "<head>\n",
       "<title>Zhilei Ren</title>\n",
       "<meta content=\"text/html; charset=utf-8\" http-equiv=\"Content-Type\"/>\n",
       "</head>"
      ]
     },
     "execution_count": 13,
     "metadata": {},
     "output_type": "execute_result"
    }
   ],
   "source": [
    "# 使用parent遍历父结点\n",
    "doc.title.parent"
   ]
  },
  {
   "cell_type": "code",
   "execution_count": 14,
   "id": "3da478d4-31c2-48df-84a7-98b5f1d5010c",
   "metadata": {},
   "outputs": [
    {
     "data": {
      "text/plain": [
       "[<head>\n",
       " <title>Zhilei Ren</title>\n",
       " <meta content=\"text/html; charset=utf-8\" http-equiv=\"Content-Type\"/>\n",
       " </head>,\n",
       " <html>\n",
       " <head>\n",
       " <title>Zhilei Ren</title>\n",
       " <meta content=\"text/html; charset=utf-8\" http-equiv=\"Content-Type\"/>\n",
       " </head>\n",
       " <body>\n",
       " <p><img alt=\"Zhilei Ren\" src=\"image/ren.png\" title=\"\"/></p>\n",
       " <p>Zhilei Ren (任志磊), professor at <a href=\"http://oscar-lab.org/\">OSCAR</a> lab, <a href=\"http://www.dlut.edu.cn/en/\">Dalian University of Technology</a>.</p>\n",
       " <p><a href=\"index_chn.htm\">[中文]</a></p>\n",
       " <hr/>\n",
       " <h1>Research Interests</h1>\n",
       " <p>Evolutionary Computation, Automatic Algorithm Configuration, Data Mining, and Data Analysis in Software Engineering</p>\n",
       " <h1>Brief Biography</h1>\n",
       " <ul>\n",
       " <li>Sep. 2009 - Mar. 2013 Ph.D candidate Dalian University of Technology, supervised by Prof. <a href=\"http://faculty.dlut.edu.cn/jianghe/en/index.htm\">He Jiang</a> </li>\n",
       " <li>Sep. 2007 - Jun. 2009 MS candidate Dalian University of Technology, supervised by Prof. <a href=\"http://faculty.dlut.edu.cn/jianghe/en/index.htm\">He Jiang</a> </li>\n",
       " <li>Sep. 2003 - Jul. 2007 BS (software engineering) Dalian University of Technology</li>\n",
       " </ul>\n",
       " <h1>Publications</h1>\n",
       " <h3>Journal Papers</h3>\n",
       " <ul>\n",
       " <li><strong>Zhilei Ren</strong>, He Jiang, Jifeng Xuan, Shuwei Zhang, Zhongxuan Luo. Feature based problem hardness understanding for requirements engineering. Science China Information Sciences, 60(3), 032105, 2017. </li>\n",
       " <li><strong>Zhilei Ren</strong>, He Jiang, Shuwei Zhang, Jingxuan Zhang, Zhongxuan Luo. Boosting Local Search with Lagrangian Relaxation. Journal of Heuristics. Online. </li>\n",
       " <li><strong>Zhilei Ren</strong>, He Jiang, Jifeng Xuan, Yan Hu, Zhongxuan Luo. New Insights Into Diversification of Hyper-Heuristics. IEEE Transactions on Cybernetics. Online. </li>\n",
       " <li><strong>Zhilei Ren</strong>, He Jiang, Jifeng Xuan, Zhongxuan Luo. Hyper-Heuristics with Low Level Parameter Adaptation. Evolutionary Computation, vol. 20, no. 2, pp. 189-227.</li>\n",
       " <li><strong>Zhilei Ren</strong>, He Jiang, Jifeng Xuan, Zhongxuan Luo. An Accelerated Limit Crossing Based Multilevel Algorithm for the p-Median Problem. IEEE Transactions on Systems, Man, and Cybernetics, Part B: Cybernetics, vol. 42, no. 4, pp. 1187-1202.</li>\n",
       " <li>He Jiang, <strong>Zhilei Ren</strong>, Jifeng Xuan, Xindong Wu. Extracting Elite Pairwise Constraints for Clustering. Neurocomputing. Online.</li>\n",
       " <li>Jifeng Xuan, He Jiang, <strong>Zhilei Ren</strong>, Zhongxuan Luo. Solving the Large Scale Next Release Problem with a Backbone Based Multilevel Algorithm. IEEE Transactions on Software Engineering, vol. 38, no. 5, Sept.-Oct. 2012, pp. 1195-1212.</li>\n",
       " <li>Shuyan Zhang, <strong>Zhilei Ren</strong>, Cuixia Li, Jifeng Xuan. A perturbation adaptive pursuit strategy based hyper-heuristic for multi-objective optimization problems. Swarm and Evolutionary Computation, vol. 54, 2020.</li>\n",
       " </ul>\n",
       " <h3>Conference Papers</h3>\n",
       " <ul>\n",
       " <li><strong>Zhilei Ren</strong>, Shiwei Sun, Jifeng Xuan, Xiaochen Li, Zhide Zhou, and He Jiang. Automated Patching for Unreproducible Builds. In 44th International Conference on Software Engineering (ICSE ’22), May 21–29, 2022, Pittsburgh, PA, USA. Accepted. </li>\n",
       " <li><strong>Zhilei Ren</strong>, Shaozheng Dong, Xiaochen Li, Zongzheng Chi, and He Jiang. Many-objective Test Database Generation for SQL. Proceedings of the 16th International Conference on Parallel Problem Solving from Nature (PPSN 2020). Accepted. </li>\n",
       " <li><strong>Zhilei Ren</strong>, Changlin Liu, Xusheng Xiao, He Jiang, and Tao Xie. Root Cause Localization for Unreproducible Builds via Causality Analysis over System Call Tracing. The 34th IEEE/ACM International Conference on Automated Software Engineering (ASE 2019). Accepted.</li>\n",
       " <li><strong>Zhilei Ren</strong>, He Jiang, Jifeng Xuan, and Zijiang Yang. Automated Localization for Unreproducible Builds. The 40th IEEE International Conference on Software Engineering (ICSE 2018), Gothenburg, Sweden. May 27 - June 3, 2018, pp. 71-81.</li>\n",
       " <li><strong>Zhilei Ren</strong>, He Jiang, Jifeng Xuan, Ke Tang, Yan Hu. Analyzing Inter-objective Relationships: A Case Study of Software Upgradability. Proceedings of the 14th International Conference on Parallel Problem Solving from Nature (PPSN 2016), Edinburgh, Scotland, UK. September 17-21, 2016, pp. 442-452.</li>\n",
       " <li> <strong>Zhilei Ren</strong>, He Jiang, Jifeng Xuan, Shuwei Zhang, Zhongxuan Luo. Learning from Evolved Next Release Problem Instances. Proceedings of the 2014 conference companion on Genetic and evolutionary computation companion, Vancouver, Canada. July 11-16, 2014, pp. 189-190.</li>\n",
       " <li>Jifeng Xuan, He Jiang, <strong>Zhilei Ren</strong>, Weiqin Zou. Developer Prioritization in Bug Repositories. Proceedings of 34th International Conference on Software Engineering (ICSE 2012), Zurich, Switzerland. June 2-9, 2012, pp. 25-35.</li>\n",
       " <li><strong>Zhilei Ren</strong>, He Jiang, Jifeng Xuan, Zhongxuan Luo. Ant Based Hyper Heuristics with Space Reduction: A Case Study of the p-Median Problem. Proceedings of 11th International Conference on Parallel Problem Solving From Nature (PPSN 2010), Krakow, Poland. September 11-15, 2010, pp. 546-555.</li>\n",
       " <li>Jifeng Xuan, He Jiang, <strong>Zhilei Ren</strong>, Jun Yan, Zhongxuan Luo. Automatic Bug Triage using Semi-Supervised Text Classification. Proceedings of 22nd International Conference on Software Engineering and Knowledge Engineering (SEKE 2010), Redwood City, California, USA. July 1-3, 2010, pp. 209-214.</li>\n",
       " <li>He Jiang, Jifeng Xuan, <strong>Zhilei Ren</strong>. Approximate Backbone Based Multilevel Algorithm for Next Release Problem. Proceedings of 12th Annual Conference on Genetic and Evolutionary Computation. (GECCO 2010), Portland, Oregon, USA. ACM Press, July 7-11, 2010, pp. 1333-1340.</li>\n",
       " <li>He Jiang, <strong>Zhilei Ren</strong>, Yan Hu. A sampling based fant for the 3-dimensional assignment problem. Proceedings of 2008 IEEE Congress on Evolutionary Computation (CEC 2008), Hongkong, China. IEEE Computer Society, 2008, pp. 4118-4124.</li>\n",
       " </ul>\n",
       " <h1>Activities</h1>\n",
       " <ul>\n",
       " <li>Publication chair, IEA/AIE 2012 (The 25th International Conference on Industrial, Engineering &amp; Other Applications of Applied Intelligent Systems)</li>\n",
       " <li>Reviewer, IEA/AIE 2012 (The 25th International Conference on Industrial, Engineering &amp; Other Applications of Applied Intelligent Systems)</li>\n",
       " <li>Reviewer, ICM 2011 (The International Conference of Information Technology, Computer Engineering and Management Sciences)</li>\n",
       " <li>Reviewer, Applied Intelligence</li>\n",
       " <li>Co-reviewer, KBS (Knowledge-Based Systems)</li>\n",
       " <li>Co-reviewer, IJACT (International Journal of Advancements in Computing Technology)</li>\n",
       " <li>Co-reviewer, ISI 2012 (IEEE International Conference on Intelligence and Security Informatics)</li>\n",
       " <li>Co-reviewer, CSE 2011 (The 14th IEEE International Conference on Computational Science and Engineering)</li>\n",
       " <li>Co-reviewer, Journal of Software</li>\n",
       " </ul>\n",
       " <h1>Awards</h1>\n",
       " <ul>\n",
       " <li>2018: ACM SIGSOFT Distinguished Paper Award</li>\n",
       " <li>2008: Outstanding Master's Candidate in the Software School of Dalian University of Technology</li>\n",
       " <li>2008: First-class Scholarship at Dalian University of Technology </li>\n",
       " <li>2007: Outstanding Graduate of Dalian City </li>\n",
       " <li>2006: Scholarship Sponsored by Dalian ShiDe Group</li>\n",
       " <li>2006: Outstanding Student of Liaoning Province</li>\n",
       " <li>2006: First-class Scholarship at Dalian University of Technology</li>\n",
       " <li>2005: Citi Bank's Financial Information Technology Scholarship</li>\n",
       " <li>2005: First-class Scholarship at Dalian University of Technology</li>\n",
       " <li>2004: Third-class NOK Scholarship</li>\n",
       " <li>2004: First-class Scholarship at Dalian University of Technology</li>\n",
       " </ul>\n",
       " <h1>Teaching Assistant</h1>\n",
       " <ul>\n",
       " <li>Compiler Principles, Spring 2009</li>\n",
       " <li>Compiler Principles, Autumn 2008</li>\n",
       " <li>Compiler Principles, Autumn 2007</li>\n",
       " </ul>\n",
       " <h1>Teaching Materials</h1>\n",
       " <ul>\n",
       " <li><a href=\"./uml\">Unified Modeling Language</a></li>\n",
       " <li><a href=\"https://bitbucket.org/rezilla/open-lecture-notes\">Open Source Course</a></li>\n",
       " <li><a href=\"./files/scientific-writing.pdf\">Scientific Writing</a> </li>\n",
       " <li><a href=\"./files/intro.pptx\">Introduction Slides for Freshmen (in Chinese)</a></li>\n",
       " <li><a href=\"./ddb\">Distributed Database</a></li>\n",
       " </ul>\n",
       " <hr/>\n",
       " <p><img alt=\"vim powered\" src=\"image/vim_powered_blueblack.gif\" title=\"\"/> Last modified on 2020-05-28</p>\n",
       " </body>\n",
       " </html>,\n",
       " <!DOCTYPE HTML PUBLIC \"-//W3C//DTD HTML 4.01 Transitional//EN\" \"http://www.w3.org/TR/html4/loose.dtd\">\n",
       " \n",
       " <html>\n",
       " <head>\n",
       " <title>Zhilei Ren</title>\n",
       " <meta content=\"text/html; charset=utf-8\" http-equiv=\"Content-Type\"/>\n",
       " </head>\n",
       " <body>\n",
       " <p><img alt=\"Zhilei Ren\" src=\"image/ren.png\" title=\"\"/></p>\n",
       " <p>Zhilei Ren (任志磊), professor at <a href=\"http://oscar-lab.org/\">OSCAR</a> lab, <a href=\"http://www.dlut.edu.cn/en/\">Dalian University of Technology</a>.</p>\n",
       " <p><a href=\"index_chn.htm\">[中文]</a></p>\n",
       " <hr/>\n",
       " <h1>Research Interests</h1>\n",
       " <p>Evolutionary Computation, Automatic Algorithm Configuration, Data Mining, and Data Analysis in Software Engineering</p>\n",
       " <h1>Brief Biography</h1>\n",
       " <ul>\n",
       " <li>Sep. 2009 - Mar. 2013 Ph.D candidate Dalian University of Technology, supervised by Prof. <a href=\"http://faculty.dlut.edu.cn/jianghe/en/index.htm\">He Jiang</a> </li>\n",
       " <li>Sep. 2007 - Jun. 2009 MS candidate Dalian University of Technology, supervised by Prof. <a href=\"http://faculty.dlut.edu.cn/jianghe/en/index.htm\">He Jiang</a> </li>\n",
       " <li>Sep. 2003 - Jul. 2007 BS (software engineering) Dalian University of Technology</li>\n",
       " </ul>\n",
       " <h1>Publications</h1>\n",
       " <h3>Journal Papers</h3>\n",
       " <ul>\n",
       " <li><strong>Zhilei Ren</strong>, He Jiang, Jifeng Xuan, Shuwei Zhang, Zhongxuan Luo. Feature based problem hardness understanding for requirements engineering. Science China Information Sciences, 60(3), 032105, 2017. </li>\n",
       " <li><strong>Zhilei Ren</strong>, He Jiang, Shuwei Zhang, Jingxuan Zhang, Zhongxuan Luo. Boosting Local Search with Lagrangian Relaxation. Journal of Heuristics. Online. </li>\n",
       " <li><strong>Zhilei Ren</strong>, He Jiang, Jifeng Xuan, Yan Hu, Zhongxuan Luo. New Insights Into Diversification of Hyper-Heuristics. IEEE Transactions on Cybernetics. Online. </li>\n",
       " <li><strong>Zhilei Ren</strong>, He Jiang, Jifeng Xuan, Zhongxuan Luo. Hyper-Heuristics with Low Level Parameter Adaptation. Evolutionary Computation, vol. 20, no. 2, pp. 189-227.</li>\n",
       " <li><strong>Zhilei Ren</strong>, He Jiang, Jifeng Xuan, Zhongxuan Luo. An Accelerated Limit Crossing Based Multilevel Algorithm for the p-Median Problem. IEEE Transactions on Systems, Man, and Cybernetics, Part B: Cybernetics, vol. 42, no. 4, pp. 1187-1202.</li>\n",
       " <li>He Jiang, <strong>Zhilei Ren</strong>, Jifeng Xuan, Xindong Wu. Extracting Elite Pairwise Constraints for Clustering. Neurocomputing. Online.</li>\n",
       " <li>Jifeng Xuan, He Jiang, <strong>Zhilei Ren</strong>, Zhongxuan Luo. Solving the Large Scale Next Release Problem with a Backbone Based Multilevel Algorithm. IEEE Transactions on Software Engineering, vol. 38, no. 5, Sept.-Oct. 2012, pp. 1195-1212.</li>\n",
       " <li>Shuyan Zhang, <strong>Zhilei Ren</strong>, Cuixia Li, Jifeng Xuan. A perturbation adaptive pursuit strategy based hyper-heuristic for multi-objective optimization problems. Swarm and Evolutionary Computation, vol. 54, 2020.</li>\n",
       " </ul>\n",
       " <h3>Conference Papers</h3>\n",
       " <ul>\n",
       " <li><strong>Zhilei Ren</strong>, Shiwei Sun, Jifeng Xuan, Xiaochen Li, Zhide Zhou, and He Jiang. Automated Patching for Unreproducible Builds. In 44th International Conference on Software Engineering (ICSE ’22), May 21–29, 2022, Pittsburgh, PA, USA. Accepted. </li>\n",
       " <li><strong>Zhilei Ren</strong>, Shaozheng Dong, Xiaochen Li, Zongzheng Chi, and He Jiang. Many-objective Test Database Generation for SQL. Proceedings of the 16th International Conference on Parallel Problem Solving from Nature (PPSN 2020). Accepted. </li>\n",
       " <li><strong>Zhilei Ren</strong>, Changlin Liu, Xusheng Xiao, He Jiang, and Tao Xie. Root Cause Localization for Unreproducible Builds via Causality Analysis over System Call Tracing. The 34th IEEE/ACM International Conference on Automated Software Engineering (ASE 2019). Accepted.</li>\n",
       " <li><strong>Zhilei Ren</strong>, He Jiang, Jifeng Xuan, and Zijiang Yang. Automated Localization for Unreproducible Builds. The 40th IEEE International Conference on Software Engineering (ICSE 2018), Gothenburg, Sweden. May 27 - June 3, 2018, pp. 71-81.</li>\n",
       " <li><strong>Zhilei Ren</strong>, He Jiang, Jifeng Xuan, Ke Tang, Yan Hu. Analyzing Inter-objective Relationships: A Case Study of Software Upgradability. Proceedings of the 14th International Conference on Parallel Problem Solving from Nature (PPSN 2016), Edinburgh, Scotland, UK. September 17-21, 2016, pp. 442-452.</li>\n",
       " <li> <strong>Zhilei Ren</strong>, He Jiang, Jifeng Xuan, Shuwei Zhang, Zhongxuan Luo. Learning from Evolved Next Release Problem Instances. Proceedings of the 2014 conference companion on Genetic and evolutionary computation companion, Vancouver, Canada. July 11-16, 2014, pp. 189-190.</li>\n",
       " <li>Jifeng Xuan, He Jiang, <strong>Zhilei Ren</strong>, Weiqin Zou. Developer Prioritization in Bug Repositories. Proceedings of 34th International Conference on Software Engineering (ICSE 2012), Zurich, Switzerland. June 2-9, 2012, pp. 25-35.</li>\n",
       " <li><strong>Zhilei Ren</strong>, He Jiang, Jifeng Xuan, Zhongxuan Luo. Ant Based Hyper Heuristics with Space Reduction: A Case Study of the p-Median Problem. Proceedings of 11th International Conference on Parallel Problem Solving From Nature (PPSN 2010), Krakow, Poland. September 11-15, 2010, pp. 546-555.</li>\n",
       " <li>Jifeng Xuan, He Jiang, <strong>Zhilei Ren</strong>, Jun Yan, Zhongxuan Luo. Automatic Bug Triage using Semi-Supervised Text Classification. Proceedings of 22nd International Conference on Software Engineering and Knowledge Engineering (SEKE 2010), Redwood City, California, USA. July 1-3, 2010, pp. 209-214.</li>\n",
       " <li>He Jiang, Jifeng Xuan, <strong>Zhilei Ren</strong>. Approximate Backbone Based Multilevel Algorithm for Next Release Problem. Proceedings of 12th Annual Conference on Genetic and Evolutionary Computation. (GECCO 2010), Portland, Oregon, USA. ACM Press, July 7-11, 2010, pp. 1333-1340.</li>\n",
       " <li>He Jiang, <strong>Zhilei Ren</strong>, Yan Hu. A sampling based fant for the 3-dimensional assignment problem. Proceedings of 2008 IEEE Congress on Evolutionary Computation (CEC 2008), Hongkong, China. IEEE Computer Society, 2008, pp. 4118-4124.</li>\n",
       " </ul>\n",
       " <h1>Activities</h1>\n",
       " <ul>\n",
       " <li>Publication chair, IEA/AIE 2012 (The 25th International Conference on Industrial, Engineering &amp; Other Applications of Applied Intelligent Systems)</li>\n",
       " <li>Reviewer, IEA/AIE 2012 (The 25th International Conference on Industrial, Engineering &amp; Other Applications of Applied Intelligent Systems)</li>\n",
       " <li>Reviewer, ICM 2011 (The International Conference of Information Technology, Computer Engineering and Management Sciences)</li>\n",
       " <li>Reviewer, Applied Intelligence</li>\n",
       " <li>Co-reviewer, KBS (Knowledge-Based Systems)</li>\n",
       " <li>Co-reviewer, IJACT (International Journal of Advancements in Computing Technology)</li>\n",
       " <li>Co-reviewer, ISI 2012 (IEEE International Conference on Intelligence and Security Informatics)</li>\n",
       " <li>Co-reviewer, CSE 2011 (The 14th IEEE International Conference on Computational Science and Engineering)</li>\n",
       " <li>Co-reviewer, Journal of Software</li>\n",
       " </ul>\n",
       " <h1>Awards</h1>\n",
       " <ul>\n",
       " <li>2018: ACM SIGSOFT Distinguished Paper Award</li>\n",
       " <li>2008: Outstanding Master's Candidate in the Software School of Dalian University of Technology</li>\n",
       " <li>2008: First-class Scholarship at Dalian University of Technology </li>\n",
       " <li>2007: Outstanding Graduate of Dalian City </li>\n",
       " <li>2006: Scholarship Sponsored by Dalian ShiDe Group</li>\n",
       " <li>2006: Outstanding Student of Liaoning Province</li>\n",
       " <li>2006: First-class Scholarship at Dalian University of Technology</li>\n",
       " <li>2005: Citi Bank's Financial Information Technology Scholarship</li>\n",
       " <li>2005: First-class Scholarship at Dalian University of Technology</li>\n",
       " <li>2004: Third-class NOK Scholarship</li>\n",
       " <li>2004: First-class Scholarship at Dalian University of Technology</li>\n",
       " </ul>\n",
       " <h1>Teaching Assistant</h1>\n",
       " <ul>\n",
       " <li>Compiler Principles, Spring 2009</li>\n",
       " <li>Compiler Principles, Autumn 2008</li>\n",
       " <li>Compiler Principles, Autumn 2007</li>\n",
       " </ul>\n",
       " <h1>Teaching Materials</h1>\n",
       " <ul>\n",
       " <li><a href=\"./uml\">Unified Modeling Language</a></li>\n",
       " <li><a href=\"https://bitbucket.org/rezilla/open-lecture-notes\">Open Source Course</a></li>\n",
       " <li><a href=\"./files/scientific-writing.pdf\">Scientific Writing</a> </li>\n",
       " <li><a href=\"./files/intro.pptx\">Introduction Slides for Freshmen (in Chinese)</a></li>\n",
       " <li><a href=\"./ddb\">Distributed Database</a></li>\n",
       " </ul>\n",
       " <hr/>\n",
       " <p><img alt=\"vim powered\" src=\"image/vim_powered_blueblack.gif\" title=\"\"/> Last modified on 2020-05-28</p>\n",
       " </body>\n",
       " </html>]"
      ]
     },
     "execution_count": 14,
     "metadata": {},
     "output_type": "execute_result"
    }
   ],
   "source": [
    "# 反向遍历祖先节点\n",
    "list(doc.title.parents)"
   ]
  },
  {
   "cell_type": "code",
   "execution_count": 15,
   "id": "e15c42d7-816d-45ba-a39e-091b593c5f0e",
   "metadata": {},
   "outputs": [
    {
     "data": {
      "text/plain": [
       "<img alt=\"Zhilei Ren\" src=\"image/ren.png\" title=\"\"/>"
      ]
     },
     "execution_count": 15,
     "metadata": {},
     "output_type": "execute_result"
    }
   ],
   "source": [
    "# 使用next遍历页面中的下一个节点\n",
    "doc.p.next"
   ]
  },
  {
   "cell_type": "code",
   "execution_count": 17,
   "id": "cc66534b-6642-4c2b-afbe-d47d9b6c2c75",
   "metadata": {},
   "outputs": [
    {
     "data": {
      "text/plain": [
       "['\\n',\n",
       " <li>Sep. 2009 - Mar. 2013 Ph.D candidate Dalian University of Technology, supervised by Prof. <a href=\"http://faculty.dlut.edu.cn/jianghe/en/index.htm\">He Jiang</a> </li>,\n",
       " '\\n',\n",
       " <li>Sep. 2007 - Jun. 2009 MS candidate Dalian University of Technology, supervised by Prof. <a href=\"http://faculty.dlut.edu.cn/jianghe/en/index.htm\">He Jiang</a> </li>,\n",
       " '\\n',\n",
       " <li>Sep. 2003 - Jul. 2007 BS (software engineering) Dalian University of Technology</li>,\n",
       " '\\n']"
      ]
     },
     "execution_count": 17,
     "metadata": {},
     "output_type": "execute_result"
    }
   ],
   "source": [
    "# 使用children获得某个节点的所有子节点\n",
    "list(doc.ul.children)"
   ]
  },
  {
   "cell_type": "code",
   "execution_count": 20,
   "id": "dd11322d-3489-4885-a7fe-868a0410850d",
   "metadata": {},
   "outputs": [
    {
     "name": "stdout",
     "output_type": "stream",
     "text": [
      "http://oscar-lab.org/\n",
      "http://www.dlut.edu.cn/en/\n",
      "index_chn.htm\n",
      "http://faculty.dlut.edu.cn/jianghe/en/index.htm\n",
      "http://faculty.dlut.edu.cn/jianghe/en/index.htm\n",
      "./uml\n",
      "https://bitbucket.org/rezilla/open-lecture-notes\n",
      "./files/scientific-writing.pdf\n",
      "./files/intro.pptx\n",
      "./ddb\n"
     ]
    }
   ],
   "source": [
    "# 遍历所有a节点，打印href字段\n",
    "for link in doc.find_all('a'):\n",
    "    print(link.get('href'))"
   ]
  },
  {
   "cell_type": "code",
   "execution_count": 21,
   "id": "71682a0e-e465-4e3a-a53c-9b7d14f7a779",
   "metadata": {},
   "outputs": [
    {
     "data": {
      "text/plain": [
       "<ul>\n",
       "<li>Sep. 2009 - Mar. 2013 Ph.D candidate Dalian University of Technology, supervised by Prof. <a href=\"http://faculty.dlut.edu.cn/jianghe/en/index.htm\">He Jiang</a> </li>\n",
       "<li>Sep. 2007 - Jun. 2009 MS candidate Dalian University of Technology, supervised by Prof. <a href=\"http://faculty.dlut.edu.cn/jianghe/en/index.htm\">He Jiang</a> </li>\n",
       "<li>Sep. 2003 - Jul. 2007 BS (software engineering) Dalian University of Technology</li>\n",
       "</ul>"
      ]
     },
     "execution_count": 21,
     "metadata": {},
     "output_type": "execute_result"
    }
   ],
   "source": [
    "# find参数默认为tag名称，如a/p/ul/ol/li\n",
    "doc.find('ul')"
   ]
  },
  {
   "cell_type": "code",
   "execution_count": 22,
   "id": "3acd4109-f4c5-4ba7-8294-4662218e2bae",
   "metadata": {},
   "outputs": [],
   "source": [
    "a = doc.a"
   ]
  },
  {
   "cell_type": "code",
   "execution_count": 24,
   "id": "c8ba055e-f32c-4a78-a873-5997a2ea1241",
   "metadata": {},
   "outputs": [
    {
     "data": {
      "text/plain": [
       "<a href=\"http://www.dlut.edu.cn/en/\">Dalian University of Technology</a>"
      ]
     },
     "execution_count": 24,
     "metadata": {},
     "output_type": "execute_result"
    }
   ],
   "source": [
    "# 从a节点出发进行搜索\n",
    "a.find_next('a')"
   ]
  },
  {
   "cell_type": "code",
   "execution_count": 25,
   "id": "5103efbb-6eb4-4e15-8577-915491ab190f",
   "metadata": {},
   "outputs": [],
   "source": [
    "import re"
   ]
  },
  {
   "cell_type": "code",
   "execution_count": 26,
   "id": "8d3dd36b-f116-4917-a03c-5ff4657d6c62",
   "metadata": {},
   "outputs": [
    {
     "name": "stderr",
     "output_type": "stream",
     "text": [
      "C:\\Users\\heisenlindangao\\AppData\\Local\\Temp\\ipykernel_2872\\2798712665.py:2: DeprecationWarning: The 'text' argument to find()-type methods is deprecated. Use 'string' instead.\n",
      "  doc.find_all(text = re.compile(\"(IEEE)|(ACM)\"))\n"
     ]
    },
    {
     "data": {
      "text/plain": [
       "[', He Jiang, Jifeng Xuan, Yan Hu, Zhongxuan Luo. New Insights Into Diversification of Hyper-Heuristics. IEEE Transactions on Cybernetics. Online. ',\n",
       " ', He Jiang, Jifeng Xuan, Zhongxuan Luo. An Accelerated Limit Crossing Based Multilevel Algorithm for the p-Median Problem. IEEE Transactions on Systems, Man, and Cybernetics, Part B: Cybernetics, vol. 42, no. 4, pp. 1187-1202.',\n",
       " ', Zhongxuan Luo. Solving the Large Scale Next Release Problem with a Backbone Based Multilevel Algorithm. IEEE Transactions on Software Engineering, vol. 38, no. 5, Sept.-Oct. 2012, pp. 1195-1212.',\n",
       " ', Changlin Liu, Xusheng Xiao, He Jiang, and Tao Xie. Root Cause Localization for Unreproducible Builds via Causality Analysis over System Call Tracing. The 34th IEEE/ACM International Conference on Automated Software Engineering (ASE 2019). Accepted.',\n",
       " ', He Jiang, Jifeng Xuan, and Zijiang Yang. Automated Localization for Unreproducible Builds. The 40th IEEE International Conference on Software Engineering (ICSE 2018), Gothenburg, Sweden. May 27 - June 3, 2018, pp. 71-81.',\n",
       " '. Approximate Backbone Based Multilevel Algorithm for Next Release Problem. Proceedings of 12th Annual Conference on Genetic and Evolutionary Computation. (GECCO 2010), Portland, Oregon, USA. ACM Press, July 7-11, 2010, pp. 1333-1340.',\n",
       " ', Yan Hu. A sampling based fant for the 3-dimensional assignment problem. Proceedings of 2008 IEEE Congress on Evolutionary Computation (CEC 2008), Hongkong, China. IEEE Computer Society, 2008, pp. 4118-4124.',\n",
       " 'Co-reviewer, ISI 2012 (IEEE International Conference on Intelligence and Security Informatics)',\n",
       " 'Co-reviewer, CSE 2011 (The 14th IEEE International Conference on Computational Science and Engineering)',\n",
       " '2018: ACM SIGSOFT Distinguished Paper Award']"
      ]
     },
     "execution_count": 26,
     "metadata": {},
     "output_type": "execute_result"
    }
   ],
   "source": [
    "# 使用正则表达式匹配文本\n",
    "doc.find_all(text = re.compile(\"(IEEE)|(ACM)\"))"
   ]
  },
  {
   "cell_type": "code",
   "execution_count": 28,
   "id": "a39bfdb2-b42d-4515-bba3-168a2570acb0",
   "metadata": {},
   "outputs": [
    {
     "data": {
      "text/plain": [
       "[<head>\n",
       " <title>Zhilei Ren</title>\n",
       " <meta content=\"text/html; charset=utf-8\" http-equiv=\"Content-Type\"/>\n",
       " </head>,\n",
       " <title>Zhilei Ren</title>,\n",
       " <meta content=\"text/html; charset=utf-8\" http-equiv=\"Content-Type\"/>]"
      ]
     },
     "execution_count": 28,
     "metadata": {},
     "output_type": "execute_result"
    }
   ],
   "source": [
    "# 使用正则表达式匹配tag\n",
    "doc.find_all(re.compile(\"e\"))"
   ]
  },
  {
   "cell_type": "code",
   "execution_count": 32,
   "id": "a31f594b-f53b-42f3-ac99-12ca41dc20a1",
   "metadata": {},
   "outputs": [],
   "source": [
    "# 遍历DOM树，按缩进显示树形结构\n",
    "def tree(node, prefix, last):\n",
    "    if not isinstance(node, bs4.element.Tag):\n",
    "        pass\n",
    "    else:\n",
    "        print(prefix + last + node.name)\n",
    "        children = [c for c in node.children if isinstance(c, bs4.element.Tag)]\n",
    "        if children:\n",
    "            for child in children[:-1]:\n",
    "                tree(child, prefix + ' |', '--')\n",
    "            tree(children[-1], prefix + '  ' , ' -')"
   ]
  },
  {
   "cell_type": "code",
   "execution_count": 33,
   "id": "7d1bc2e3-17ae-4f9a-8eed-d5f93c31c5d7",
   "metadata": {},
   "outputs": [
    {
     "name": "stdout",
     "output_type": "stream",
     "text": [
      "[document]\n",
      "   -html\n",
      "   |--head\n",
      "   | |--title\n",
      "   |   -meta\n",
      "     -body\n",
      "     |--p\n",
      "     |   -img\n",
      "     |--p\n",
      "     | |--a\n",
      "     |   -a\n",
      "     |--p\n",
      "     |   -a\n",
      "     |--hr\n",
      "     |--h1\n",
      "     |--p\n",
      "     |--h1\n",
      "     |--ul\n",
      "     | |--li\n",
      "     | |   -a\n",
      "     | |--li\n",
      "     | |   -a\n",
      "     |   -li\n",
      "     |--h1\n",
      "     |--h3\n",
      "     |--ul\n",
      "     | |--li\n",
      "     | |   -strong\n",
      "     | |--li\n",
      "     | |   -strong\n",
      "     | |--li\n",
      "     | |   -strong\n",
      "     | |--li\n",
      "     | |   -strong\n",
      "     | |--li\n",
      "     | |   -strong\n",
      "     | |--li\n",
      "     | |   -strong\n",
      "     | |--li\n",
      "     | |   -strong\n",
      "     |   -li\n",
      "     |     -strong\n",
      "     |--h3\n",
      "     |--ul\n",
      "     | |--li\n",
      "     | |   -strong\n",
      "     | |--li\n",
      "     | |   -strong\n",
      "     | |--li\n",
      "     | |   -strong\n",
      "     | |--li\n",
      "     | |   -strong\n",
      "     | |--li\n",
      "     | |   -strong\n",
      "     | |--li\n",
      "     | |   -strong\n",
      "     | |--li\n",
      "     | |   -strong\n",
      "     | |--li\n",
      "     | |   -strong\n",
      "     | |--li\n",
      "     | |   -strong\n",
      "     | |--li\n",
      "     | |   -strong\n",
      "     |   -li\n",
      "     |     -strong\n",
      "     |--h1\n",
      "     |--ul\n",
      "     | |--li\n",
      "     | |--li\n",
      "     | |--li\n",
      "     | |--li\n",
      "     | |--li\n",
      "     | |--li\n",
      "     | |--li\n",
      "     | |--li\n",
      "     |   -li\n",
      "     |--h1\n",
      "     |--ul\n",
      "     | |--li\n",
      "     | |--li\n",
      "     | |--li\n",
      "     | |--li\n",
      "     | |--li\n",
      "     | |--li\n",
      "     | |--li\n",
      "     | |--li\n",
      "     | |--li\n",
      "     | |--li\n",
      "     |   -li\n",
      "     |--h1\n",
      "     |--ul\n",
      "     | |--li\n",
      "     | |--li\n",
      "     |   -li\n",
      "     |--h1\n",
      "     |--ul\n",
      "     | |--li\n",
      "     | |   -a\n",
      "     | |--li\n",
      "     | |   -a\n",
      "     | |--li\n",
      "     | |   -a\n",
      "     | |--li\n",
      "     | |   -a\n",
      "     |   -li\n",
      "     |     -a\n",
      "     |--hr\n",
      "       -p\n",
      "         -img\n"
     ]
    }
   ],
   "source": [
    "tree(doc, \"\", \"\")"
   ]
  },
  {
   "cell_type": "code",
   "execution_count": null,
   "id": "83146470-a8a5-4dd8-b2e9-07a2796e1b79",
   "metadata": {},
   "outputs": [],
   "source": []
  }
 ],
 "metadata": {
  "kernelspec": {
   "display_name": "Python 3 (ipykernel)",
   "language": "python",
   "name": "python3"
  },
  "language_info": {
   "codemirror_mode": {
    "name": "ipython",
    "version": 3
   },
   "file_extension": ".py",
   "mimetype": "text/x-python",
   "name": "python",
   "nbconvert_exporter": "python",
   "pygments_lexer": "ipython3",
   "version": "3.12.6"
  }
 },
 "nbformat": 4,
 "nbformat_minor": 5
}
