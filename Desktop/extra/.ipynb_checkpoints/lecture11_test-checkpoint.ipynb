{
 "cells": [
  {
   "cell_type": "code",
   "execution_count": 3,
   "id": "be8c3803-d708-4a01-ae10-00cf9a6aa77e",
   "metadata": {},
   "outputs": [],
   "source": [
    "def triangle(a, b, c):\n",
    "    if a + b <= c:\n",
    "        return \"错误\"\n",
    "    triangle_type = \"\"\n",
    "    if a == b == c:\n",
    "        triangle_type = \"等边\"\n",
    "    elif a == b or b == c or a == c:\n",
    "        triangle_type = \"等腰\"\n",
    "    else:\n",
    "        triangle_type = \"一般\"\n",
    "\n",
    "    if a ** 2 + b ** 2 == c ** 2:\n",
    "        triangle_type += \"直角\"\n",
    "    return triangle_type"
   ]
  },
  {
   "cell_type": "code",
   "execution_count": 4,
   "id": "8bcaedb2-6fc6-42ac-976d-6b68df524b5a",
   "metadata": {},
   "outputs": [
    {
     "name": "stdout",
     "output_type": "stream",
     "text": [
      "等边\n",
      "错误\n",
      "等边\n",
      "一般直角\n"
     ]
    }
   ],
   "source": [
    "print(triangle(1, 1, 1))\n",
    "print(triangle(1, 2, 3))\n",
    "print(triangle(3, 3, 3))\n",
    "print(triangle(3, 4, 5))"
   ]
  },
  {
   "cell_type": "code",
   "execution_count": 5,
   "id": "cd5f2ccd-e09a-4c53-9d55-52e83194ad66",
   "metadata": {},
   "outputs": [],
   "source": [
    "import unittest\n",
    "\n",
    "class TestTriangle(unittest.TestCase):\n",
    "    def test_triangle1(self):\n",
    "        self.assertEqual(triangle(0, 0, 0), \"错误\")\n",
    "    def test_triangle2(self):\n",
    "        self.assertEqual(triangle(1, 1, 1), \"等边\")\n",
    "    def test_triangle3(self):\n",
    "        self.assertEqual3(triangle(1, 3, 2), \"错误\")"
   ]
  },
  {
   "cell_type": "code",
   "execution_count": 6,
   "id": "39b12976-e904-4b1e-aa4e-bc5e85a8bdd7",
   "metadata": {},
   "outputs": [
    {
     "name": "stderr",
     "output_type": "stream",
     "text": [
      "test_triangle1 (__main__.TestTriangle.test_triangle1) ... ok\n",
      "test_triangle2 (__main__.TestTriangle.test_triangle2) ... ok\n",
      "test_triangle3 (__main__.TestTriangle.test_triangle3) ... ERROR\n",
      "\n",
      "======================================================================\n",
      "ERROR: test_triangle3 (__main__.TestTriangle.test_triangle3)\n",
      "----------------------------------------------------------------------\n",
      "Traceback (most recent call last):\n",
      "  File \"C:\\Users\\heisenlindangao\\AppData\\Local\\Temp\\ipykernel_14412\\1410459951.py\", line 9, in test_triangle3\n",
      "    self.assertEqual3(triangle(1, 3, 2), \"错误\")\n",
      "    ^^^^^^^^^^^^^^^^^\n",
      "AttributeError: 'TestTriangle' object has no attribute 'assertEqual3'. Did you mean: 'assertEqual'?\n",
      "\n",
      "----------------------------------------------------------------------\n",
      "Ran 3 tests in 0.012s\n",
      "\n",
      "FAILED (errors=1)\n"
     ]
    },
    {
     "data": {
      "text/plain": [
       "<unittest.runner.TextTestResult run=3 errors=1 failures=0>"
      ]
     },
     "execution_count": 6,
     "metadata": {},
     "output_type": "execute_result"
    }
   ],
   "source": [
    "suite = unittest.TestLoader().loadTestsFromTestCase(TestTriangle)\n",
    "runner = unittest.TextTestRunner(verbosity = 2)\n",
    "runner.run(suite)"
   ]
  },
  {
   "cell_type": "code",
   "execution_count": 7,
   "id": "35918436-5fbc-498f-847f-8d7a68408622",
   "metadata": {},
   "outputs": [],
   "source": [
    "def triangle(a, b, c):\n",
    "    a, b, c = sorted([a, b, c])\n",
    "    if a + b <= c:\n",
    "        return \"错误\"\n",
    "    triangle_type = \"\"\n",
    "    if a == b == c:\n",
    "        triangle_type = \"等边\"\n",
    "    elif a == b or b == c or a == c:\n",
    "        triangle_type = \"等腰\"\n",
    "    else:\n",
    "        triangle_type = \"一般\"\n",
    "\n",
    "    if a ** 2 + b ** 2 == c ** 2:\n",
    "        triangle_type += \"直角\"\n",
    "    return triangle_type"
   ]
  },
  {
   "cell_type": "code",
   "execution_count": 8,
   "id": "7dc27629-4894-4ade-8046-2c03f04a7dc4",
   "metadata": {},
   "outputs": [
    {
     "name": "stderr",
     "output_type": "stream",
     "text": [
      "test_triangle1 (__main__.TestTriangle.test_triangle1) ... ok\n",
      "test_triangle2 (__main__.TestTriangle.test_triangle2) ... ok\n",
      "test_triangle3 (__main__.TestTriangle.test_triangle3) ... ERROR\n",
      "\n",
      "======================================================================\n",
      "ERROR: test_triangle3 (__main__.TestTriangle.test_triangle3)\n",
      "----------------------------------------------------------------------\n",
      "Traceback (most recent call last):\n",
      "  File \"C:\\Users\\heisenlindangao\\AppData\\Local\\Temp\\ipykernel_14412\\1410459951.py\", line 9, in test_triangle3\n",
      "    self.assertEqual3(triangle(1, 3, 2), \"错误\")\n",
      "    ^^^^^^^^^^^^^^^^^\n",
      "AttributeError: 'TestTriangle' object has no attribute 'assertEqual3'. Did you mean: 'assertEqual'?\n",
      "\n",
      "----------------------------------------------------------------------\n",
      "Ran 3 tests in 0.008s\n",
      "\n",
      "FAILED (errors=1)\n"
     ]
    },
    {
     "data": {
      "text/plain": [
       "<unittest.runner.TextTestResult run=3 errors=1 failures=0>"
      ]
     },
     "execution_count": 8,
     "metadata": {},
     "output_type": "execute_result"
    }
   ],
   "source": [
    "suite = unittest.TestLoader().loadTestsFromTestCase(TestTriangle)\n",
    "runner = unittest.TextTestRunner(verbosity=2)\n",
    "runner.run(suite)"
   ]
  },
  {
   "cell_type": "code",
   "execution_count": null,
   "id": "6a6ea13c-fea7-4543-aecb-a6f2d08b143f",
   "metadata": {},
   "outputs": [],
   "source": []
  }
 ],
 "metadata": {
  "kernelspec": {
   "display_name": "Python 3 (ipykernel)",
   "language": "python",
   "name": "python3"
  },
  "language_info": {
   "codemirror_mode": {
    "name": "ipython",
    "version": 3
   },
   "file_extension": ".py",
   "mimetype": "text/x-python",
   "name": "python",
   "nbconvert_exporter": "python",
   "pygments_lexer": "ipython3",
   "version": "3.12.6"
  }
 },
 "nbformat": 4,
 "nbformat_minor": 5
}
