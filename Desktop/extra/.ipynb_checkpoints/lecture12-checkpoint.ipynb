{
 "cells": [
  {
   "cell_type": "code",
   "execution_count": 1,
   "id": "c79fb89f-b8cc-4b69-be72-aa6f23f1b31d",
   "metadata": {},
   "outputs": [],
   "source": [
    "import flask\n",
    "import sqlite3"
   ]
  },
  {
   "cell_type": "code",
   "execution_count": 2,
   "id": "c9fffab0-bcde-468f-b626-69e5e28357db",
   "metadata": {},
   "outputs": [],
   "source": [
    "app = flask.Flask(__name__)"
   ]
  },
  {
   "cell_type": "code",
   "execution_count": 3,
   "id": "625f8b18-89ef-421d-8007-c2bf7369ccf5",
   "metadata": {},
   "outputs": [],
   "source": [
    "@app.route(\"/\")\n",
    "def index():\n",
    "    return \"\"\"\n",
    "    <html>\n",
    "        <body>\n",
    "        This is my first flask app\n",
    "        </body>\n",
    "    </html>\"\"\"\n",
    "    "
   ]
  },
  {
   "cell_type": "code",
   "execution_count": 4,
   "id": "a4031f8f-b16d-471e-bb7d-203c87dc1327",
   "metadata": {},
   "outputs": [],
   "source": [
    "@app.route(\"/form\")\n",
    "def form():\n",
    "    return flask.render_template(\"form.html\")"
   ]
  },
  {
   "cell_type": "code",
   "execution_count": 5,
   "id": "a65295a8-5675-4ee2-a0c4-8743e4a2e2a2",
   "metadata": {},
   "outputs": [],
   "source": [
    "@app.route(\"/hello/<name>\")\n",
    "def hello(name):\n",
    "    g = globals()\n",
    "    a = \"abc\"\n",
    "    return flask.render_template(\"hello.html\", g = g, a = a)"
   ]
  },
  {
   "cell_type": "code",
   "execution_count": 7,
   "id": "dbecdb3a-cef9-4ced-b716-8bf3698bba90",
   "metadata": {},
   "outputs": [],
   "source": [
    "@app.route(\"/result\", methods = ['POST'])\n",
    "def result():\n",
    "    return f\"\"\"\n",
    "    <html>\n",
    "        <body>\n",
    "            hello, {flask.request.form['fname']}\n",
    "        </body>\n",
    "    </html>\"\"\""
   ]
  },
  {
   "cell_type": "code",
   "execution_count": null,
   "id": "2320958b-2dae-424a-8df6-d574ddfc3645",
   "metadata": {},
   "outputs": [],
   "source": []
  }
 ],
 "metadata": {
  "kernelspec": {
   "display_name": "Python 3 (ipykernel)",
   "language": "python",
   "name": "python3"
  },
  "language_info": {
   "codemirror_mode": {
    "name": "ipython",
    "version": 3
   },
   "file_extension": ".py",
   "mimetype": "text/x-python",
   "name": "python",
   "nbconvert_exporter": "python",
   "pygments_lexer": "ipython3",
   "version": "3.12.6"
  }
 },
 "nbformat": 4,
 "nbformat_minor": 5
}
