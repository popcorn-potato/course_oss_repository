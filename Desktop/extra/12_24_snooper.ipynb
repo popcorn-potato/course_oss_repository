{
 "cells": [
  {
   "cell_type": "code",
   "execution_count": 2,
   "id": "e1270eda-975e-48b1-abe8-394086709f1a",
   "metadata": {},
   "outputs": [],
   "source": [
    "import pysnooper"
   ]
  },
  {
   "cell_type": "code",
   "execution_count": 3,
   "id": "fc80e877-4756-40c1-9f01-4e182871c511",
   "metadata": {},
   "outputs": [],
   "source": [
    "@pysnooper.snoop()\n",
    "def foo(bar, buz):\n",
    "    if bar > buz:\n",
    "        bar += buz\n",
    "    else:\n",
    "        buz *= bar\n",
    "    return bar + buz"
   ]
  },
  {
   "cell_type": "code",
   "execution_count": 4,
   "id": "52afca45-63d7-4862-a06c-78f627b0db6a",
   "metadata": {
    "scrolled": true
   },
   "outputs": [
    {
     "name": "stderr",
     "output_type": "stream",
     "text": [
      "Source path:... C:\\Users\\heisenlindangao\\AppData\\Local\\Temp\\ipykernel_2516\\3898111170.py\n",
      "Starting var:.. bar = 3\n",
      "Starting var:.. buz = 4\n",
      "15:25:39.871589 call         1 SOURCE IS UNAVAILABLE\n",
      "15:25:39.872588 line         3 SOURCE IS UNAVAILABLE\n",
      "15:25:39.872588 line         6 SOURCE IS UNAVAILABLE\n",
      "Modified var:.. buz = 12\n",
      "15:25:39.872588 line         7 SOURCE IS UNAVAILABLE\n",
      "15:25:39.872588 return       7 SOURCE IS UNAVAILABLE\n",
      "Return value:.. 15\n",
      "Elapsed time: 00:00:00.000999\n"
     ]
    },
    {
     "data": {
      "text/plain": [
       "15"
      ]
     },
     "execution_count": 4,
     "metadata": {},
     "output_type": "execute_result"
    }
   ],
   "source": [
    "foo(3, 4)"
   ]
  },
  {
   "cell_type": "code",
   "execution_count": 9,
   "id": "ad91b744-9d20-45c7-8639-58a0d48e98a7",
   "metadata": {},
   "outputs": [
    {
     "name": "stdout",
     "output_type": "stream",
     "text": [
      "before time\n",
      "in foo()\n",
      "after time\n"
     ]
    }
   ],
   "source": [
    "# 通过嵌套函数实现对函数的修饰\n",
    "def outer(func):\n",
    "    def inner():\n",
    "        print(\"before time\")\n",
    "        func()\n",
    "        print(\"after time\")\n",
    "    return inner\n",
    "\n",
    "@outer\n",
    "def foo():\n",
    "    print('in foo()')\n",
    "\n",
    "\n",
    "foo()"
   ]
  },
  {
   "cell_type": "code",
   "execution_count": 11,
   "id": "5ef19629-a2de-437f-9745-11b25a97b21a",
   "metadata": {},
   "outputs": [
    {
     "name": "stdout",
     "output_type": "stream",
     "text": [
      "in foo()\n",
      "time: 2.0009686946868896\n"
     ]
    }
   ],
   "source": [
    "import time\n",
    "def outer(func):\n",
    "    def inner():\n",
    "        begin = time.time()\n",
    "        func()\n",
    "        end = time.time()\n",
    "        print(f\"time: {end - begin}\")\n",
    "    return inner\n",
    "\n",
    "@outer\n",
    "def foo():\n",
    "    time.sleep(2)\n",
    "    print('in foo()')\n",
    "\n",
    "foo()"
   ]
  },
  {
   "cell_type": "code",
   "execution_count": 12,
   "id": "901cd523-816b-4f48-8642-c26571bf464c",
   "metadata": {},
   "outputs": [
    {
     "name": "stdout",
     "output_type": "stream",
     "text": [
      "in foo()\n",
      "time: 2.0005698204040527\n",
      "None\n"
     ]
    }
   ],
   "source": [
    "def outer(func):\n",
    "    def inner():\n",
    "        begin = time.time()\n",
    "        func()\n",
    "        end = time.time()\n",
    "        print(f\"time: {end - begin}\")\n",
    "        # 隐式的return None\n",
    "    return inner\n",
    "\n",
    "@outer\n",
    "def foo():\n",
    "    time.sleep(2)\n",
    "    print('in foo()')\n",
    "    return 0\n",
    "\n",
    "ret = foo()\n",
    "print(ret)"
   ]
  },
  {
   "cell_type": "code",
   "execution_count": 15,
   "id": "eddf517e-c193-4970-84cd-831bb871f42e",
   "metadata": {},
   "outputs": [
    {
     "name": "stdout",
     "output_type": "stream",
     "text": [
      "in foo()\n",
      "time: 2.000659227371216\n",
      "None\n"
     ]
    }
   ],
   "source": [
    "def outer(func):\n",
    "    def inner():\n",
    "        begin = time.time()\n",
    "        func()\n",
    "        end = time.time()\n",
    "        print(f\"time: {end - begin}\")\n",
    "        # 隐式的return None\n",
    "    return inner\n",
    "\n",
    "def foo():\n",
    "    time.sleep(2)\n",
    "    print('in foo()')\n",
    "    return 0\n",
    "\n",
    "bar = outer(foo)\n",
    "ret = bar()\n",
    "print(ret)"
   ]
  },
  {
   "cell_type": "code",
   "execution_count": 16,
   "id": "4a7741a0-c84c-4fc2-966d-db542ab69003",
   "metadata": {},
   "outputs": [
    {
     "name": "stdout",
     "output_type": "stream",
     "text": [
      "None\n"
     ]
    }
   ],
   "source": [
    "def outer(func):\n",
    "    def inner():\n",
    "        begin = time.time()\n",
    "        ret = func()\n",
    "        end = time.time()\n",
    "        print(f\"time: {end - begin}\")\n",
    "        # 隐式的return None\n",
    "    return inner\n",
    "\n",
    "@outer\n",
    "def foo():\n",
    "    time.sleep(2)\n",
    "    print('in foo()')\n",
    "    return 0\n",
    "\n",
    "print(ret)# 使ret接受func的返回值0"
   ]
  },
  {
   "cell_type": "code",
   "execution_count": null,
   "id": "efc33755-9662-4a6c-a4f3-ebc3298131c3",
   "metadata": {},
   "outputs": [],
   "source": []
  }
 ],
 "metadata": {
  "kernelspec": {
   "display_name": "Python 3 (ipykernel)",
   "language": "python",
   "name": "python3"
  },
  "language_info": {
   "codemirror_mode": {
    "name": "ipython",
    "version": 3
   },
   "file_extension": ".py",
   "mimetype": "text/x-python",
   "name": "python",
   "nbconvert_exporter": "python",
   "pygments_lexer": "ipython3",
   "version": "3.12.6"
  }
 },
 "nbformat": 4,
 "nbformat_minor": 5
}
